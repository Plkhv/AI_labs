{
 "cells": [
  {
   "cell_type": "markdown",
   "id": "409fc981",
   "metadata": {},
   "source": [
    "# 1. Классификация задач машинного и глубокого обучения"
   ]
  },
  {
   "cell_type": "markdown",
   "id": "8ca567fe",
   "metadata": {},
   "source": [
    "![](https://assets-global.website-files.com/5d7b77b063a9066d83e1209c/6158dd5a5c04109f63363e0a_67KbBrP_mJMkcaOsEOlrk5eedzXJolEg5wkJX8nQLiarNAClBP0q5XncPyQM7jyoGKUGsc_onAJnBkVDfEkKVWIFNuZYZmaWq1hkP1fIQwX4nQMoDulaNYCkJvVgHr6IZOYdc5rv%3Ds0.png)"
   ]
  },
  {
   "cell_type": "markdown",
   "id": "5d3f8980",
   "metadata": {},
   "source": [
    "# Supervised Learning (Обучение с учителем)"
   ]
  },
  {
   "cell_type": "markdown",
   "id": "d8fc5b9c",
   "metadata": {},
   "source": [
    "![](https://miro.medium.com/v2/resize:fit:1400/1*ASYpFfDh7XnreU-ygqXonw.png)"
   ]
  },
  {
   "cell_type": "markdown",
   "id": "8d76e7d8",
   "metadata": {},
   "source": [
    "## Пример классификации"
   ]
  },
  {
   "cell_type": "code",
   "execution_count": 2,
   "id": "1678e64e",
   "metadata": {},
   "outputs": [],
   "source": [
    "import pandas as pd\n",
    "import numpy as np\n",
    "import matplotlib.pyplot as plt\n",
    "from sklearn.datasets import fetch_openml\n",
    "\n",
    "\n",
    "name_of_dataset = \"SpeedDating\"\n",
    "data = fetch_openml(name=name_of_dataset, version=1)"
   ]
  },
  {
   "cell_type": "code",
   "execution_count": 3,
   "id": "1a90b9b9",
   "metadata": {},
   "outputs": [
    {
     "name": "stdout",
     "output_type": "stream",
     "text": [
      "**Author**: Ray Fisman and Sheena Iyengar  \n",
      "**Source**: [Columbia Business School](http://www.stat.columbia.edu/~gelman/arm/examples/speed.dating/) - 2004  \n",
      "**Please cite**: None  \n",
      "\n",
      "This data was gathered from participants in experimental speed dating events from 2002-2004. During the events, the attendees would have a four-minute \"first date\" with every other participant of the opposite sex. At the end of their four minutes, participants were asked if they would like to see their date again. They were also asked to rate their date on six attributes: Attractiveness, Sincerity, Intelligence, Fun, Ambition, and Shared Interests. The dataset also includes questionnaire data gathered from participants at different points in the process. These fields include: demographics, dating habits, self-perception across key attributes, beliefs on what others find valuable in a mate, and lifestyle information. \n",
      "\n",
      "### Attribute Information\n",
      "```\n",
      " * gender: Gender of self  \n",
      " * age: Age of self  \n",
      " * age_o: Age of partner  \n",
      " * d_age: Difference in age  \n",
      " * race: Race of self  \n",
      " * race_o: Race of partner  \n",
      " * samerace: Whether the two persons have the same race or not.  \n",
      " * importance_same_race: How important is it that partner is of same race?  \n",
      " * importance_same_religion: How important is it that partner has same religion?  \n",
      " * field: Field of study  \n",
      " * pref_o_attractive: How important does partner rate attractiveness  \n",
      " * pref_o_sinsere: How important does partner rate sincerity  \n",
      " * pref_o_intelligence: How important does partner rate intelligence  \n",
      " * pref_o_funny: How important does partner rate being funny  \n",
      " * pref_o_ambitious: How important does partner rate ambition  \n",
      " * pref_o_shared_interests: How important does partner rate having shared interests  \n",
      " * attractive_o: Rating by partner (about me) at night of event on attractiveness  \n",
      " * sincere_o: Rating by partner (about me) at night of event on sincerity  \n",
      " * intelligence_o: Rating by partner (about me) at night of event on intelligence  \n",
      " * funny_o: Rating by partner (about me) at night of event on being funny  \n",
      " * ambitous_o: Rating by partner (about me) at night of event on being ambitious  \n",
      " * shared_interests_o: Rating by partner (about me) at night of event on shared interest  \n",
      " * attractive_important: What do you look for in a partner - attractiveness  \n",
      " * sincere_important: What do you look for in a partner - sincerity  \n",
      " * intellicence_important: What do you look for in a partner - intelligence  \n",
      " * funny_important: What do you look for in a partner - being funny  \n",
      " * ambtition_important: What do you look for in a partner - ambition  \n",
      " * shared_interests_important: What do you look for in a partner - shared interests  \n",
      " * attractive: Rate yourself - attractiveness  \n",
      " * sincere: Rate yourself - sincerity   \n",
      " * intelligence: Rate yourself - intelligence   \n",
      " * funny: Rate yourself - being funny   \n",
      " * ambition: Rate yourself - ambition  \n",
      " * attractive_partner: Rate your partner - attractiveness  \n",
      " * sincere_partner: Rate your partner - sincerity   \n",
      " * intelligence_partner: Rate your partner - intelligence   \n",
      " * funny_partner: Rate your partner - being funny   \n",
      " * ambition_partner: Rate your partner - ambition   \n",
      " * shared_interests_partner: Rate your partner - shared interests  \n",
      " * sports: Your own interests [1-10]  \n",
      " * tvsports  \n",
      " * exercise  \n",
      " * dining  \n",
      " * museums  \n",
      " * art  \n",
      " * hiking  \n",
      " * gaming  \n",
      " * clubbing  \n",
      " * reading  \n",
      " * tv  \n",
      " * theater  \n",
      " * movies  \n",
      " * concerts  \n",
      " * music  \n",
      " * shopping  \n",
      " * yoga  \n",
      " * interests_correlate: Correlation between participant’s and partner’s ratings of interests.  \n",
      " * expected_happy_with_sd_people: How happy do you expect to be with the people you meet during the speed-dating event?  \n",
      " * expected_num_interested_in_me: Out of the 20 people you will meet, how many do you expect will be interested in dating you?  \n",
      " * expected_num_matches: How many matches do you expect to get?  \n",
      " * like: Did you like your partner?  \n",
      " * guess_prob_liked: How likely do you think it is that your partner likes you?   \n",
      " * met: Have you met your partner before?  \n",
      " * decision: Decision at night of event.\n",
      " * decision_o: Decision of partner at night of event.  \n",
      " * match: Match (yes/no)\n",
      "```\n",
      "\n",
      "### Relevant paper\n",
      "\n",
      "Raymond Fisman; Sheena S. Iyengar; Emir Kamenica; Itamar Simonson.   \n",
      "Gender Differences in Mate Selection: Evidence From a Speed Dating Experiment.   \n",
      "The Quarterly Journal of Economics, Volume 121, Issue 2, 1 May 2006, Pages 673–697,   \n",
      "[https://doi.org/10.1162/qjec.2006.121.2.673](https://doi.org/10.1162/qjec.2006.121.2.673)\n",
      "\n",
      "Downloaded from openml.org.\n"
     ]
    }
   ],
   "source": [
    "print(data.DESCR)"
   ]
  },
  {
   "cell_type": "code",
   "execution_count": 4,
   "id": "c072f8be",
   "metadata": {},
   "outputs": [
    {
     "data": {
      "text/html": [
       "<div>\n",
       "<style scoped>\n",
       "    .dataframe tbody tr th:only-of-type {\n",
       "        vertical-align: middle;\n",
       "    }\n",
       "\n",
       "    .dataframe tbody tr th {\n",
       "        vertical-align: top;\n",
       "    }\n",
       "\n",
       "    .dataframe thead th {\n",
       "        text-align: right;\n",
       "    }\n",
       "</style>\n",
       "<table border=\"1\" class=\"dataframe\">\n",
       "  <thead>\n",
       "    <tr style=\"text-align: right;\">\n",
       "      <th></th>\n",
       "      <th>has_null</th>\n",
       "      <th>wave</th>\n",
       "      <th>gender</th>\n",
       "      <th>age</th>\n",
       "      <th>age_o</th>\n",
       "      <th>d_age</th>\n",
       "      <th>d_d_age</th>\n",
       "      <th>race</th>\n",
       "      <th>race_o</th>\n",
       "      <th>samerace</th>\n",
       "      <th>...</th>\n",
       "      <th>expected_num_interested_in_me</th>\n",
       "      <th>expected_num_matches</th>\n",
       "      <th>d_expected_happy_with_sd_people</th>\n",
       "      <th>d_expected_num_interested_in_me</th>\n",
       "      <th>d_expected_num_matches</th>\n",
       "      <th>like</th>\n",
       "      <th>guess_prob_liked</th>\n",
       "      <th>d_like</th>\n",
       "      <th>d_guess_prob_liked</th>\n",
       "      <th>met</th>\n",
       "    </tr>\n",
       "  </thead>\n",
       "  <tbody>\n",
       "    <tr>\n",
       "      <th>0</th>\n",
       "      <td>0</td>\n",
       "      <td>1</td>\n",
       "      <td>female</td>\n",
       "      <td>21.0</td>\n",
       "      <td>27.0</td>\n",
       "      <td>6</td>\n",
       "      <td>[4-6]</td>\n",
       "      <td>Asian/Pacific Islander/Asian-American</td>\n",
       "      <td>European/Caucasian-American</td>\n",
       "      <td>0</td>\n",
       "      <td>...</td>\n",
       "      <td>2.0</td>\n",
       "      <td>4.0</td>\n",
       "      <td>[0-4]</td>\n",
       "      <td>[0-3]</td>\n",
       "      <td>[3-5]</td>\n",
       "      <td>7.0</td>\n",
       "      <td>6.0</td>\n",
       "      <td>[6-8]</td>\n",
       "      <td>[5-6]</td>\n",
       "      <td>0.0</td>\n",
       "    </tr>\n",
       "    <tr>\n",
       "      <th>1</th>\n",
       "      <td>0</td>\n",
       "      <td>1</td>\n",
       "      <td>female</td>\n",
       "      <td>21.0</td>\n",
       "      <td>22.0</td>\n",
       "      <td>1</td>\n",
       "      <td>[0-1]</td>\n",
       "      <td>Asian/Pacific Islander/Asian-American</td>\n",
       "      <td>European/Caucasian-American</td>\n",
       "      <td>0</td>\n",
       "      <td>...</td>\n",
       "      <td>2.0</td>\n",
       "      <td>4.0</td>\n",
       "      <td>[0-4]</td>\n",
       "      <td>[0-3]</td>\n",
       "      <td>[3-5]</td>\n",
       "      <td>7.0</td>\n",
       "      <td>5.0</td>\n",
       "      <td>[6-8]</td>\n",
       "      <td>[5-6]</td>\n",
       "      <td>1.0</td>\n",
       "    </tr>\n",
       "    <tr>\n",
       "      <th>2</th>\n",
       "      <td>1</td>\n",
       "      <td>1</td>\n",
       "      <td>female</td>\n",
       "      <td>21.0</td>\n",
       "      <td>22.0</td>\n",
       "      <td>1</td>\n",
       "      <td>[0-1]</td>\n",
       "      <td>Asian/Pacific Islander/Asian-American</td>\n",
       "      <td>Asian/Pacific Islander/Asian-American</td>\n",
       "      <td>1</td>\n",
       "      <td>...</td>\n",
       "      <td>2.0</td>\n",
       "      <td>4.0</td>\n",
       "      <td>[0-4]</td>\n",
       "      <td>[0-3]</td>\n",
       "      <td>[3-5]</td>\n",
       "      <td>7.0</td>\n",
       "      <td>NaN</td>\n",
       "      <td>[6-8]</td>\n",
       "      <td>[0-4]</td>\n",
       "      <td>1.0</td>\n",
       "    </tr>\n",
       "    <tr>\n",
       "      <th>3</th>\n",
       "      <td>0</td>\n",
       "      <td>1</td>\n",
       "      <td>female</td>\n",
       "      <td>21.0</td>\n",
       "      <td>23.0</td>\n",
       "      <td>2</td>\n",
       "      <td>[2-3]</td>\n",
       "      <td>Asian/Pacific Islander/Asian-American</td>\n",
       "      <td>European/Caucasian-American</td>\n",
       "      <td>0</td>\n",
       "      <td>...</td>\n",
       "      <td>2.0</td>\n",
       "      <td>4.0</td>\n",
       "      <td>[0-4]</td>\n",
       "      <td>[0-3]</td>\n",
       "      <td>[3-5]</td>\n",
       "      <td>7.0</td>\n",
       "      <td>6.0</td>\n",
       "      <td>[6-8]</td>\n",
       "      <td>[5-6]</td>\n",
       "      <td>0.0</td>\n",
       "    </tr>\n",
       "    <tr>\n",
       "      <th>4</th>\n",
       "      <td>0</td>\n",
       "      <td>1</td>\n",
       "      <td>female</td>\n",
       "      <td>21.0</td>\n",
       "      <td>24.0</td>\n",
       "      <td>3</td>\n",
       "      <td>[2-3]</td>\n",
       "      <td>Asian/Pacific Islander/Asian-American</td>\n",
       "      <td>Latino/Hispanic American</td>\n",
       "      <td>0</td>\n",
       "      <td>...</td>\n",
       "      <td>2.0</td>\n",
       "      <td>4.0</td>\n",
       "      <td>[0-4]</td>\n",
       "      <td>[0-3]</td>\n",
       "      <td>[3-5]</td>\n",
       "      <td>6.0</td>\n",
       "      <td>6.0</td>\n",
       "      <td>[6-8]</td>\n",
       "      <td>[5-6]</td>\n",
       "      <td>0.0</td>\n",
       "    </tr>\n",
       "  </tbody>\n",
       "</table>\n",
       "<p>5 rows × 120 columns</p>\n",
       "</div>"
      ],
      "text/plain": [
       "  has_null  wave  gender   age  age_o  d_age d_d_age  \\\n",
       "0        0     1  female  21.0   27.0      6   [4-6]   \n",
       "1        0     1  female  21.0   22.0      1   [0-1]   \n",
       "2        1     1  female  21.0   22.0      1   [0-1]   \n",
       "3        0     1  female  21.0   23.0      2   [2-3]   \n",
       "4        0     1  female  21.0   24.0      3   [2-3]   \n",
       "\n",
       "                                    race  \\\n",
       "0  Asian/Pacific Islander/Asian-American   \n",
       "1  Asian/Pacific Islander/Asian-American   \n",
       "2  Asian/Pacific Islander/Asian-American   \n",
       "3  Asian/Pacific Islander/Asian-American   \n",
       "4  Asian/Pacific Islander/Asian-American   \n",
       "\n",
       "                                  race_o samerace  ...  \\\n",
       "0            European/Caucasian-American        0  ...   \n",
       "1            European/Caucasian-American        0  ...   \n",
       "2  Asian/Pacific Islander/Asian-American        1  ...   \n",
       "3            European/Caucasian-American        0  ...   \n",
       "4               Latino/Hispanic American        0  ...   \n",
       "\n",
       "   expected_num_interested_in_me  expected_num_matches  \\\n",
       "0                            2.0                   4.0   \n",
       "1                            2.0                   4.0   \n",
       "2                            2.0                   4.0   \n",
       "3                            2.0                   4.0   \n",
       "4                            2.0                   4.0   \n",
       "\n",
       "  d_expected_happy_with_sd_people d_expected_num_interested_in_me  \\\n",
       "0                           [0-4]                           [0-3]   \n",
       "1                           [0-4]                           [0-3]   \n",
       "2                           [0-4]                           [0-3]   \n",
       "3                           [0-4]                           [0-3]   \n",
       "4                           [0-4]                           [0-3]   \n",
       "\n",
       "  d_expected_num_matches  like  guess_prob_liked  d_like  d_guess_prob_liked  \\\n",
       "0                  [3-5]   7.0               6.0   [6-8]               [5-6]   \n",
       "1                  [3-5]   7.0               5.0   [6-8]               [5-6]   \n",
       "2                  [3-5]   7.0               NaN   [6-8]               [0-4]   \n",
       "3                  [3-5]   7.0               6.0   [6-8]               [5-6]   \n",
       "4                  [3-5]   6.0               6.0   [6-8]               [5-6]   \n",
       "\n",
       "   met  \n",
       "0  0.0  \n",
       "1  1.0  \n",
       "2  1.0  \n",
       "3  0.0  \n",
       "4  0.0  \n",
       "\n",
       "[5 rows x 120 columns]"
      ]
     },
     "execution_count": 4,
     "metadata": {},
     "output_type": "execute_result"
    }
   ],
   "source": [
    "data.data.head()"
   ]
  },
  {
   "cell_type": "code",
   "execution_count": 5,
   "id": "f1348f97",
   "metadata": {},
   "outputs": [
    {
     "data": {
      "image/png": "[encoded data removed]",
      "text/plain": [
       "<Figure size 640x480 with 1 Axes>"
      ]
     },
     "metadata": {},
     "output_type": "display_data"
    }
   ],
   "source": [
    "data.target.hist();"
   ]
  },
  {
   "cell_type": "markdown",
   "id": "88daee89",
   "metadata": {},
   "source": [
    "## Пример регрессии"
   ]
  },
  {
   "cell_type": "code",
   "execution_count": 6,
   "id": "237b211d",
   "metadata": {},
   "outputs": [],
   "source": [
    "data_url = \"https://raw.githubusercontent.com/Pratik-Bhujade/Diamond-Dataset/master/DiamondData.csv\"\n",
    "data = pd.read_csv(data_url)"
   ]
  },
  {
   "cell_type": "markdown",
   "id": "f53facd0",
   "metadata": {},
   "source": [
    "[data description](https://www.kaggle.com/datasets/shivam2503/diamonds)"
   ]
  },
  {
   "cell_type": "code",
   "execution_count": 7,
   "id": "60fbfea9",
   "metadata": {},
   "outputs": [
    {
     "data": {
      "text/html": [
       "<div>\n",
       "<style scoped>\n",
       "    .dataframe tbody tr th:only-of-type {\n",
       "        vertical-align: middle;\n",
       "    }\n",
       "\n",
       "    .dataframe tbody tr th {\n",
       "        vertical-align: top;\n",
       "    }\n",
       "\n",
       "    .dataframe thead th {\n",
       "        text-align: right;\n",
       "    }\n",
       "</style>\n",
       "<table border=\"1\" class=\"dataframe\">\n",
       "  <thead>\n",
       "    <tr style=\"text-align: right;\">\n",
       "      <th></th>\n",
       "      <th>carat</th>\n",
       "      <th>cut</th>\n",
       "      <th>color</th>\n",
       "      <th>clarity</th>\n",
       "      <th>depth</th>\n",
       "      <th>table</th>\n",
       "      <th>price</th>\n",
       "      <th>x</th>\n",
       "      <th>y</th>\n",
       "      <th>z</th>\n",
       "    </tr>\n",
       "  </thead>\n",
       "  <tbody>\n",
       "    <tr>\n",
       "      <th>0</th>\n",
       "      <td>1.50</td>\n",
       "      <td>Fair</td>\n",
       "      <td>G</td>\n",
       "      <td>SI1</td>\n",
       "      <td>64.5</td>\n",
       "      <td>57.0</td>\n",
       "      <td>10352.0</td>\n",
       "      <td>7.15</td>\n",
       "      <td>7.09</td>\n",
       "      <td>4.59</td>\n",
       "    </tr>\n",
       "    <tr>\n",
       "      <th>1</th>\n",
       "      <td>0.70</td>\n",
       "      <td>Ideal</td>\n",
       "      <td>E</td>\n",
       "      <td>VS2</td>\n",
       "      <td>61.4</td>\n",
       "      <td>57.0</td>\n",
       "      <td>2274.0</td>\n",
       "      <td>5.72</td>\n",
       "      <td>5.78</td>\n",
       "      <td>3.53</td>\n",
       "    </tr>\n",
       "    <tr>\n",
       "      <th>2</th>\n",
       "      <td>1.22</td>\n",
       "      <td>Premium</td>\n",
       "      <td>G</td>\n",
       "      <td>VS1</td>\n",
       "      <td>61.3</td>\n",
       "      <td>58.0</td>\n",
       "      <td>8779.0</td>\n",
       "      <td>6.91</td>\n",
       "      <td>6.89</td>\n",
       "      <td>4.23</td>\n",
       "    </tr>\n",
       "    <tr>\n",
       "      <th>3</th>\n",
       "      <td>0.51</td>\n",
       "      <td>Premium</td>\n",
       "      <td>E</td>\n",
       "      <td>VS2</td>\n",
       "      <td>62.5</td>\n",
       "      <td>60.0</td>\n",
       "      <td>1590.0</td>\n",
       "      <td>5.08</td>\n",
       "      <td>5.10</td>\n",
       "      <td>3.18</td>\n",
       "    </tr>\n",
       "    <tr>\n",
       "      <th>4</th>\n",
       "      <td>2.02</td>\n",
       "      <td>Very Good</td>\n",
       "      <td>J</td>\n",
       "      <td>SI2</td>\n",
       "      <td>59.2</td>\n",
       "      <td>60.0</td>\n",
       "      <td>11757.0</td>\n",
       "      <td>8.27</td>\n",
       "      <td>8.39</td>\n",
       "      <td>4.91</td>\n",
       "    </tr>\n",
       "  </tbody>\n",
       "</table>\n",
       "</div>"
      ],
      "text/plain": [
       "   carat        cut color clarity  depth  table    price     x     y     z\n",
       "0   1.50       Fair     G     SI1   64.5   57.0  10352.0  7.15  7.09  4.59\n",
       "1   0.70      Ideal     E     VS2   61.4   57.0   2274.0  5.72  5.78  3.53\n",
       "2   1.22    Premium     G     VS1   61.3   58.0   8779.0  6.91  6.89  4.23\n",
       "3   0.51    Premium     E     VS2   62.5   60.0   1590.0  5.08  5.10  3.18\n",
       "4   2.02  Very Good     J     SI2   59.2   60.0  11757.0  8.27  8.39  4.91"
      ]
     },
     "execution_count": 7,
     "metadata": {},
     "output_type": "execute_result"
    }
   ],
   "source": [
    "data.head()"
   ]
  },
  {
   "cell_type": "code",
   "execution_count": 8,
   "id": "081991be",
   "metadata": {},
   "outputs": [
    {
     "data": {
      "text/plain": [
       "(50000, 10)"
      ]
     },
     "execution_count": 8,
     "metadata": {},
     "output_type": "execute_result"
    }
   ],
   "source": [
    "data.shape"
   ]
  },
  {
   "cell_type": "code",
   "execution_count": 9,
   "id": "d0a9a854",
   "metadata": {},
   "outputs": [
    {
     "data": {
      "text/plain": [
       "11270"
      ]
     },
     "execution_count": 9,
     "metadata": {},
     "output_type": "execute_result"
    }
   ],
   "source": [
    "data[\"price\"].nunique()"
   ]
  },
  {
   "cell_type": "code",
   "execution_count": null,
   "id": "cc77b100",
   "metadata": {},
   "outputs": [],
   "source": [
    "data[\"price\"].hist();"
   ]
  },
  {
   "cell_type": "markdown",
   "id": "82938c78",
   "metadata": {},
   "source": [
    "## Пример кластеризации"
   ]
  },
  {
   "cell_type": "code",
   "execution_count": 10,
   "id": "c5213475",
   "metadata": {},
   "outputs": [],
   "source": [
    "data_url = \"https://raw.githubusercontent.com/kennedykwangari/Mall-Customer-Segmentation-Data/master/Mall_Customers.csv\"\n",
    "data = pd.read_csv(data_url)"
   ]
  },
  {
   "cell_type": "code",
   "execution_count": 11,
   "id": "563f7538",
   "metadata": {},
   "outputs": [
    {
     "data": {
      "text/html": [
       "<div>\n",
       "<style scoped>\n",
       "    .dataframe tbody tr th:only-of-type {\n",
       "        vertical-align: middle;\n",
       "    }\n",
       "\n",
       "    .dataframe tbody tr th {\n",
       "        vertical-align: top;\n",
       "    }\n",
       "\n",
       "    .dataframe thead th {\n",
       "        text-align: right;\n",
       "    }\n",
       "</style>\n",
       "<table border=\"1\" class=\"dataframe\">\n",
       "  <thead>\n",
       "    <tr style=\"text-align: right;\">\n",
       "      <th></th>\n",
       "      <th>CustomerID</th>\n",
       "      <th>Gender</th>\n",
       "      <th>Age</th>\n",
       "      <th>Annual Income (k$)</th>\n",
       "      <th>Spending Score (1-100)</th>\n",
       "    </tr>\n",
       "  </thead>\n",
       "  <tbody>\n",
       "    <tr>\n",
       "      <th>0</th>\n",
       "      <td>1</td>\n",
       "      <td>Male</td>\n",
       "      <td>19</td>\n",
       "      <td>15</td>\n",
       "      <td>39</td>\n",
       "    </tr>\n",
       "    <tr>\n",
       "      <th>1</th>\n",
       "      <td>2</td>\n",
       "      <td>Male</td>\n",
       "      <td>21</td>\n",
       "      <td>15</td>\n",
       "      <td>81</td>\n",
       "    </tr>\n",
       "    <tr>\n",
       "      <th>2</th>\n",
       "      <td>3</td>\n",
       "      <td>Female</td>\n",
       "      <td>20</td>\n",
       "      <td>16</td>\n",
       "      <td>6</td>\n",
       "    </tr>\n",
       "    <tr>\n",
       "      <th>3</th>\n",
       "      <td>4</td>\n",
       "      <td>Female</td>\n",
       "      <td>23</td>\n",
       "      <td>16</td>\n",
       "      <td>77</td>\n",
       "    </tr>\n",
       "    <tr>\n",
       "      <th>4</th>\n",
       "      <td>5</td>\n",
       "      <td>Female</td>\n",
       "      <td>31</td>\n",
       "      <td>17</td>\n",
       "      <td>40</td>\n",
       "    </tr>\n",
       "  </tbody>\n",
       "</table>\n",
       "</div>"
      ],
      "text/plain": [
       "   CustomerID  Gender  Age  Annual Income (k$)  Spending Score (1-100)\n",
       "0           1    Male   19                  15                      39\n",
       "1           2    Male   21                  15                      81\n",
       "2           3  Female   20                  16                       6\n",
       "3           4  Female   23                  16                      77\n",
       "4           5  Female   31                  17                      40"
      ]
     },
     "execution_count": 11,
     "metadata": {},
     "output_type": "execute_result"
    }
   ],
   "source": [
    "data.head()"
   ]
  },
  {
   "cell_type": "code",
   "execution_count": 12,
   "id": "71cd3639",
   "metadata": {},
   "outputs": [
    {
     "name": "stderr",
     "output_type": "stream",
     "text": [
      "C:\\Users\\Polyak\\AppData\\Local\\Temp\\ipykernel_2084\\607332936.py:2: FutureWarning: Downcasting behavior in `replace` is deprecated and will be removed in a future version. To retain the old behavior, explicitly call `result.infer_objects(copy=False)`. To opt-in to the future behavior, set `pd.set_option('future.no_silent_downcasting', True)`\n",
      "  data['Gender'] = data['Gender'].replace({\"Male\": 0, \"Female\": 1})\n"
     ]
    }
   ],
   "source": [
    "data.drop(['CustomerID'], axis=1, inplace=True)\n",
    "data['Gender'] = data['Gender'].replace({\"Male\": 0, \"Female\": 1})"
   ]
  },
  {
   "cell_type": "code",
   "execution_count": 13,
   "id": "e7f24d6f",
   "metadata": {},
   "outputs": [],
   "source": [
    "from sklearn.manifold import TSNE\n",
    "\n",
    "\n",
    "tsne = TSNE()\n",
    "data_tsne = tsne.fit_transform(data)"
   ]
  },
  {
   "cell_type": "code",
   "execution_count": 14,
   "id": "3fa25115",
   "metadata": {},
   "outputs": [
    {
     "data": {
      "image/png": "[encoded data removed]",
      "text/plain": [
       "<Figure size 640x480 with 1 Axes>"
      ]
     },
     "metadata": {},
     "output_type": "display_data"
    }
   ],
   "source": [
    "import matplotlib.pyplot as plt\n",
    "\n",
    "\n",
    "plt.scatter(data_tsne[:, 0], data_tsne[:, 1]);"
   ]
  },
  {
   "cell_type": "code",
   "execution_count": 15,
   "id": "9926fbca",
   "metadata": {},
   "outputs": [],
   "source": [
    "from sklearn.cluster import KMeans\n",
    "\n",
    "\n",
    "kmeans = KMeans(n_clusters=6)\n",
    "kmeans.fit(data)\n",
    "y_pred = kmeans.predict(data)"
   ]
  },
  {
   "cell_type": "code",
   "execution_count": 16,
   "id": "47f1108a",
   "metadata": {},
   "outputs": [
    {
     "data": {
      "image/png": "[encoded data removed]",
      "text/plain": [
       "<Figure size 640x480 with 1 Axes>"
      ]
     },
     "metadata": {},
     "output_type": "display_data"
    }
   ],
   "source": [
    "import matplotlib.pyplot as plt\n",
    "\n",
    "\n",
    "plt.scatter(data_tsne[:, 0], data_tsne[:, 1], c=y_pred, s=30);"
   ]
  },
  {
   "cell_type": "markdown",
   "id": "3f34b970",
   "metadata": {},
   "source": [
    "# 2. Важные понятия в машинном обучении"
   ]
  },
  {
   "cell_type": "code",
   "execution_count": 17,
   "id": "2446139f",
   "metadata": {},
   "outputs": [],
   "source": [
    "import numpy as np"
   ]
  },
  {
   "cell_type": "code",
   "execution_count": 18,
   "id": "5c4b0306",
   "metadata": {},
   "outputs": [],
   "source": [
    "RANDOM_STATE = 17\n",
    "SAMPLE_SIZE = 30\n",
    "NOISE_AMPLITUDE = 5\n",
    "\n",
    "np.random.seed(RANDOM_STATE)\n",
    "X = np.arange(0, SAMPLE_SIZE)\n",
    "y = 2 * X + np.random.randint(-NOISE_AMPLITUDE, NOISE_AMPLITUDE, size=SAMPLE_SIZE) + 30"
   ]
  },
  {
   "cell_type": "code",
   "execution_count": 19,
   "id": "80d81f72",
   "metadata": {},
   "outputs": [
    {
     "ename": "FileNotFoundError",
     "evalue": "[Errno 2] No such file or directory: '../../data/SOCR-HeightWeight.csv'",
     "output_type": "error",
     "traceback": [
      "\u001b[1;31m---------------------------------------------------------------------------\u001b[0m",
      "\u001b[1;31mFileNotFoundError\u001b[0m                         Traceback (most recent call last)",
      "Cell \u001b[1;32mIn[19], line 1\u001b[0m\n\u001b[1;32m----> 1\u001b[0m data \u001b[38;5;241m=\u001b[39m \u001b[43mpd\u001b[49m\u001b[38;5;241;43m.\u001b[39;49m\u001b[43mread_csv\u001b[49m\u001b[43m(\u001b[49m\u001b[38;5;124;43m\"\u001b[39;49m\u001b[38;5;124;43m../../data/SOCR-HeightWeight.csv\u001b[39;49m\u001b[38;5;124;43m\"\u001b[39;49m\u001b[43m)\u001b[49m\n\u001b[0;32m      2\u001b[0m data\u001b[38;5;241m.\u001b[39mhead()\n",
      "File \u001b[1;32mc:\\Users\\Polyak\\AppData\\Local\\Programs\\Python\\Python313\\Lib\\site-packages\\pandas\\io\\parsers\\readers.py:1026\u001b[0m, in \u001b[0;36mread_csv\u001b[1;34m(filepath_or_buffer, sep, delimiter, header, names, index_col, usecols, dtype, engine, converters, true_values, false_values, skipinitialspace, skiprows, skipfooter, nrows, na_values, keep_default_na, na_filter, verbose, skip_blank_lines, parse_dates, infer_datetime_format, keep_date_col, date_parser, date_format, dayfirst, cache_dates, iterator, chunksize, compression, thousands, decimal, lineterminator, quotechar, quoting, doublequote, escapechar, comment, encoding, encoding_errors, dialect, on_bad_lines, delim_whitespace, low_memory, memory_map, float_precision, storage_options, dtype_backend)\u001b[0m\n\u001b[0;32m   1013\u001b[0m kwds_defaults \u001b[38;5;241m=\u001b[39m _refine_defaults_read(\n\u001b[0;32m   1014\u001b[0m     dialect,\n\u001b[0;32m   1015\u001b[0m     delimiter,\n\u001b[1;32m   (...)\u001b[0m\n\u001b[0;32m   1022\u001b[0m     dtype_backend\u001b[38;5;241m=\u001b[39mdtype_backend,\n\u001b[0;32m   1023\u001b[0m )\n\u001b[0;32m   1024\u001b[0m kwds\u001b[38;5;241m.\u001b[39mupdate(kwds_defaults)\n\u001b[1;32m-> 1026\u001b[0m \u001b[38;5;28;01mreturn\u001b[39;00m \u001b[43m_read\u001b[49m\u001b[43m(\u001b[49m\u001b[43mfilepath_or_buffer\u001b[49m\u001b[43m,\u001b[49m\u001b[43m \u001b[49m\u001b[43mkwds\u001b[49m\u001b[43m)\u001b[49m\n",
      "File \u001b[1;32mc:\\Users\\Polyak\\AppData\\Local\\Programs\\Python\\Python313\\Lib\\site-packages\\pandas\\io\\parsers\\readers.py:620\u001b[0m, in \u001b[0;36m_read\u001b[1;34m(filepath_or_buffer, kwds)\u001b[0m\n\u001b[0;32m    617\u001b[0m _validate_names(kwds\u001b[38;5;241m.\u001b[39mget(\u001b[38;5;124m\"\u001b[39m\u001b[38;5;124mnames\u001b[39m\u001b[38;5;124m\"\u001b[39m, \u001b[38;5;28;01mNone\u001b[39;00m))\n\u001b[0;32m    619\u001b[0m \u001b[38;5;66;03m# Create the parser.\u001b[39;00m\n\u001b[1;32m--> 620\u001b[0m parser \u001b[38;5;241m=\u001b[39m \u001b[43mTextFileReader\u001b[49m\u001b[43m(\u001b[49m\u001b[43mfilepath_or_buffer\u001b[49m\u001b[43m,\u001b[49m\u001b[43m \u001b[49m\u001b[38;5;241;43m*\u001b[39;49m\u001b[38;5;241;43m*\u001b[39;49m\u001b[43mkwds\u001b[49m\u001b[43m)\u001b[49m\n\u001b[0;32m    622\u001b[0m \u001b[38;5;28;01mif\u001b[39;00m chunksize \u001b[38;5;129;01mor\u001b[39;00m iterator:\n\u001b[0;32m    623\u001b[0m     \u001b[38;5;28;01mreturn\u001b[39;00m parser\n",
      "File \u001b[1;32mc:\\Users\\Polyak\\AppData\\Local\\Programs\\Python\\Python313\\Lib\\site-packages\\pandas\\io\\parsers\\readers.py:1620\u001b[0m, in \u001b[0;36mTextFileReader.__init__\u001b[1;34m(self, f, engine, **kwds)\u001b[0m\n\u001b[0;32m   1617\u001b[0m     \u001b[38;5;28mself\u001b[39m\u001b[38;5;241m.\u001b[39moptions[\u001b[38;5;124m\"\u001b[39m\u001b[38;5;124mhas_index_names\u001b[39m\u001b[38;5;124m\"\u001b[39m] \u001b[38;5;241m=\u001b[39m kwds[\u001b[38;5;124m\"\u001b[39m\u001b[38;5;124mhas_index_names\u001b[39m\u001b[38;5;124m\"\u001b[39m]\n\u001b[0;32m   1619\u001b[0m \u001b[38;5;28mself\u001b[39m\u001b[38;5;241m.\u001b[39mhandles: IOHandles \u001b[38;5;241m|\u001b[39m \u001b[38;5;28;01mNone\u001b[39;00m \u001b[38;5;241m=\u001b[39m \u001b[38;5;28;01mNone\u001b[39;00m\n\u001b[1;32m-> 1620\u001b[0m \u001b[38;5;28mself\u001b[39m\u001b[38;5;241m.\u001b[39m_engine \u001b[38;5;241m=\u001b[39m \u001b[38;5;28;43mself\u001b[39;49m\u001b[38;5;241;43m.\u001b[39;49m\u001b[43m_make_engine\u001b[49m\u001b[43m(\u001b[49m\u001b[43mf\u001b[49m\u001b[43m,\u001b[49m\u001b[43m \u001b[49m\u001b[38;5;28;43mself\u001b[39;49m\u001b[38;5;241;43m.\u001b[39;49m\u001b[43mengine\u001b[49m\u001b[43m)\u001b[49m\n",
      "File \u001b[1;32mc:\\Users\\Polyak\\AppData\\Local\\Programs\\Python\\Python313\\Lib\\site-packages\\pandas\\io\\parsers\\readers.py:1880\u001b[0m, in \u001b[0;36mTextFileReader._make_engine\u001b[1;34m(self, f, engine)\u001b[0m\n\u001b[0;32m   1878\u001b[0m     \u001b[38;5;28;01mif\u001b[39;00m \u001b[38;5;124m\"\u001b[39m\u001b[38;5;124mb\u001b[39m\u001b[38;5;124m\"\u001b[39m \u001b[38;5;129;01mnot\u001b[39;00m \u001b[38;5;129;01min\u001b[39;00m mode:\n\u001b[0;32m   1879\u001b[0m         mode \u001b[38;5;241m+\u001b[39m\u001b[38;5;241m=\u001b[39m \u001b[38;5;124m\"\u001b[39m\u001b[38;5;124mb\u001b[39m\u001b[38;5;124m\"\u001b[39m\n\u001b[1;32m-> 1880\u001b[0m \u001b[38;5;28mself\u001b[39m\u001b[38;5;241m.\u001b[39mhandles \u001b[38;5;241m=\u001b[39m \u001b[43mget_handle\u001b[49m\u001b[43m(\u001b[49m\n\u001b[0;32m   1881\u001b[0m \u001b[43m    \u001b[49m\u001b[43mf\u001b[49m\u001b[43m,\u001b[49m\n\u001b[0;32m   1882\u001b[0m \u001b[43m    \u001b[49m\u001b[43mmode\u001b[49m\u001b[43m,\u001b[49m\n\u001b[0;32m   1883\u001b[0m \u001b[43m    \u001b[49m\u001b[43mencoding\u001b[49m\u001b[38;5;241;43m=\u001b[39;49m\u001b[38;5;28;43mself\u001b[39;49m\u001b[38;5;241;43m.\u001b[39;49m\u001b[43moptions\u001b[49m\u001b[38;5;241;43m.\u001b[39;49m\u001b[43mget\u001b[49m\u001b[43m(\u001b[49m\u001b[38;5;124;43m\"\u001b[39;49m\u001b[38;5;124;43mencoding\u001b[39;49m\u001b[38;5;124;43m\"\u001b[39;49m\u001b[43m,\u001b[49m\u001b[43m \u001b[49m\u001b[38;5;28;43;01mNone\u001b[39;49;00m\u001b[43m)\u001b[49m\u001b[43m,\u001b[49m\n\u001b[0;32m   1884\u001b[0m \u001b[43m    \u001b[49m\u001b[43mcompression\u001b[49m\u001b[38;5;241;43m=\u001b[39;49m\u001b[38;5;28;43mself\u001b[39;49m\u001b[38;5;241;43m.\u001b[39;49m\u001b[43moptions\u001b[49m\u001b[38;5;241;43m.\u001b[39;49m\u001b[43mget\u001b[49m\u001b[43m(\u001b[49m\u001b[38;5;124;43m\"\u001b[39;49m\u001b[38;5;124;43mcompression\u001b[39;49m\u001b[38;5;124;43m\"\u001b[39;49m\u001b[43m,\u001b[49m\u001b[43m \u001b[49m\u001b[38;5;28;43;01mNone\u001b[39;49;00m\u001b[43m)\u001b[49m\u001b[43m,\u001b[49m\n\u001b[0;32m   1885\u001b[0m \u001b[43m    \u001b[49m\u001b[43mmemory_map\u001b[49m\u001b[38;5;241;43m=\u001b[39;49m\u001b[38;5;28;43mself\u001b[39;49m\u001b[38;5;241;43m.\u001b[39;49m\u001b[43moptions\u001b[49m\u001b[38;5;241;43m.\u001b[39;49m\u001b[43mget\u001b[49m\u001b[43m(\u001b[49m\u001b[38;5;124;43m\"\u001b[39;49m\u001b[38;5;124;43mmemory_map\u001b[39;49m\u001b[38;5;124;43m\"\u001b[39;49m\u001b[43m,\u001b[49m\u001b[43m \u001b[49m\u001b[38;5;28;43;01mFalse\u001b[39;49;00m\u001b[43m)\u001b[49m\u001b[43m,\u001b[49m\n\u001b[0;32m   1886\u001b[0m \u001b[43m    \u001b[49m\u001b[43mis_text\u001b[49m\u001b[38;5;241;43m=\u001b[39;49m\u001b[43mis_text\u001b[49m\u001b[43m,\u001b[49m\n\u001b[0;32m   1887\u001b[0m \u001b[43m    \u001b[49m\u001b[43merrors\u001b[49m\u001b[38;5;241;43m=\u001b[39;49m\u001b[38;5;28;43mself\u001b[39;49m\u001b[38;5;241;43m.\u001b[39;49m\u001b[43moptions\u001b[49m\u001b[38;5;241;43m.\u001b[39;49m\u001b[43mget\u001b[49m\u001b[43m(\u001b[49m\u001b[38;5;124;43m\"\u001b[39;49m\u001b[38;5;124;43mencoding_errors\u001b[39;49m\u001b[38;5;124;43m\"\u001b[39;49m\u001b[43m,\u001b[49m\u001b[43m \u001b[49m\u001b[38;5;124;43m\"\u001b[39;49m\u001b[38;5;124;43mstrict\u001b[39;49m\u001b[38;5;124;43m\"\u001b[39;49m\u001b[43m)\u001b[49m\u001b[43m,\u001b[49m\n\u001b[0;32m   1888\u001b[0m \u001b[43m    \u001b[49m\u001b[43mstorage_options\u001b[49m\u001b[38;5;241;43m=\u001b[39;49m\u001b[38;5;28;43mself\u001b[39;49m\u001b[38;5;241;43m.\u001b[39;49m\u001b[43moptions\u001b[49m\u001b[38;5;241;43m.\u001b[39;49m\u001b[43mget\u001b[49m\u001b[43m(\u001b[49m\u001b[38;5;124;43m\"\u001b[39;49m\u001b[38;5;124;43mstorage_options\u001b[39;49m\u001b[38;5;124;43m\"\u001b[39;49m\u001b[43m,\u001b[49m\u001b[43m \u001b[49m\u001b[38;5;28;43;01mNone\u001b[39;49;00m\u001b[43m)\u001b[49m\u001b[43m,\u001b[49m\n\u001b[0;32m   1889\u001b[0m \u001b[43m\u001b[49m\u001b[43m)\u001b[49m\n\u001b[0;32m   1890\u001b[0m \u001b[38;5;28;01massert\u001b[39;00m \u001b[38;5;28mself\u001b[39m\u001b[38;5;241m.\u001b[39mhandles \u001b[38;5;129;01mis\u001b[39;00m \u001b[38;5;129;01mnot\u001b[39;00m \u001b[38;5;28;01mNone\u001b[39;00m\n\u001b[0;32m   1891\u001b[0m f \u001b[38;5;241m=\u001b[39m \u001b[38;5;28mself\u001b[39m\u001b[38;5;241m.\u001b[39mhandles\u001b[38;5;241m.\u001b[39mhandle\n",
      "File \u001b[1;32mc:\\Users\\Polyak\\AppData\\Local\\Programs\\Python\\Python313\\Lib\\site-packages\\pandas\\io\\common.py:873\u001b[0m, in \u001b[0;36mget_handle\u001b[1;34m(path_or_buf, mode, encoding, compression, memory_map, is_text, errors, storage_options)\u001b[0m\n\u001b[0;32m    868\u001b[0m \u001b[38;5;28;01melif\u001b[39;00m \u001b[38;5;28misinstance\u001b[39m(handle, \u001b[38;5;28mstr\u001b[39m):\n\u001b[0;32m    869\u001b[0m     \u001b[38;5;66;03m# Check whether the filename is to be opened in binary mode.\u001b[39;00m\n\u001b[0;32m    870\u001b[0m     \u001b[38;5;66;03m# Binary mode does not support 'encoding' and 'newline'.\u001b[39;00m\n\u001b[0;32m    871\u001b[0m     \u001b[38;5;28;01mif\u001b[39;00m ioargs\u001b[38;5;241m.\u001b[39mencoding \u001b[38;5;129;01mand\u001b[39;00m \u001b[38;5;124m\"\u001b[39m\u001b[38;5;124mb\u001b[39m\u001b[38;5;124m\"\u001b[39m \u001b[38;5;129;01mnot\u001b[39;00m \u001b[38;5;129;01min\u001b[39;00m ioargs\u001b[38;5;241m.\u001b[39mmode:\n\u001b[0;32m    872\u001b[0m         \u001b[38;5;66;03m# Encoding\u001b[39;00m\n\u001b[1;32m--> 873\u001b[0m         handle \u001b[38;5;241m=\u001b[39m \u001b[38;5;28;43mopen\u001b[39;49m\u001b[43m(\u001b[49m\n\u001b[0;32m    874\u001b[0m \u001b[43m            \u001b[49m\u001b[43mhandle\u001b[49m\u001b[43m,\u001b[49m\n\u001b[0;32m    875\u001b[0m \u001b[43m            \u001b[49m\u001b[43mioargs\u001b[49m\u001b[38;5;241;43m.\u001b[39;49m\u001b[43mmode\u001b[49m\u001b[43m,\u001b[49m\n\u001b[0;32m    876\u001b[0m \u001b[43m            \u001b[49m\u001b[43mencoding\u001b[49m\u001b[38;5;241;43m=\u001b[39;49m\u001b[43mioargs\u001b[49m\u001b[38;5;241;43m.\u001b[39;49m\u001b[43mencoding\u001b[49m\u001b[43m,\u001b[49m\n\u001b[0;32m    877\u001b[0m \u001b[43m            \u001b[49m\u001b[43merrors\u001b[49m\u001b[38;5;241;43m=\u001b[39;49m\u001b[43merrors\u001b[49m\u001b[43m,\u001b[49m\n\u001b[0;32m    878\u001b[0m \u001b[43m            \u001b[49m\u001b[43mnewline\u001b[49m\u001b[38;5;241;43m=\u001b[39;49m\u001b[38;5;124;43m\"\u001b[39;49m\u001b[38;5;124;43m\"\u001b[39;49m\u001b[43m,\u001b[49m\n\u001b[0;32m    879\u001b[0m \u001b[43m        \u001b[49m\u001b[43m)\u001b[49m\n\u001b[0;32m    880\u001b[0m     \u001b[38;5;28;01melse\u001b[39;00m:\n\u001b[0;32m    881\u001b[0m         \u001b[38;5;66;03m# Binary mode\u001b[39;00m\n\u001b[0;32m    882\u001b[0m         handle \u001b[38;5;241m=\u001b[39m \u001b[38;5;28mopen\u001b[39m(handle, ioargs\u001b[38;5;241m.\u001b[39mmode)\n",
      "\u001b[1;31mFileNotFoundError\u001b[0m: [Errno 2] No such file or directory: '../../data/SOCR-HeightWeight.csv'"
     ]
    }
   ],
   "source": [
    "data = pd.read_csv(\"../../data/SOCR-HeightWeight.csv\")\n",
    "data.head()"
   ]
  },
  {
   "cell_type": "code",
   "execution_count": null,
   "id": "799be99e",
   "metadata": {},
   "outputs": [],
   "source": [
    "data.drop(['Index'], axis=1, inplace=True)\n",
    "data.columns = ['height', 'weight']\n",
    "data.head()"
   ]
  },
  {
   "cell_type": "code",
   "execution_count": null,
   "id": "d326af64",
   "metadata": {},
   "outputs": [],
   "source": [
    "data['height'] = data['height'] * 2.54 \n",
    "data['weight'] = data['weight'] * 0.453592"
   ]
  },
  {
   "cell_type": "code",
   "execution_count": null,
   "id": "39c10e4c",
   "metadata": {},
   "outputs": [],
   "source": [
    "data.shape"
   ]
  },
  {
   "cell_type": "code",
   "execution_count": null,
   "id": "4d353f2b",
   "metadata": {},
   "outputs": [],
   "source": [
    "data.head()"
   ]
  },
  {
   "cell_type": "code",
   "execution_count": null,
   "id": "d2e24670",
   "metadata": {},
   "outputs": [],
   "source": [
    "plt.scatter(data['height'], data['weight'], s=0.5)\n",
    "plt.ylabel('Вес, кг')\n",
    "plt.xlabel('Рост, см')\n",
    "plt.title('Зависимость веса от роста');"
   ]
  },
  {
   "cell_type": "markdown",
   "id": "c53750b5",
   "metadata": {},
   "source": [
    "Представим зависимость веса от роста как линейную:  \n",
    "$$ y = kx + b $$ \n",
    "$$ Вес = k \\cdot Рост + b $$  \n",
    "\n",
    "Как найти `k` и `b`?  (вручную не хотим)"
   ]
  },
  {
   "cell_type": "markdown",
   "id": "3d2b731d",
   "metadata": {},
   "source": [
    "Можно ввести функцию потерь для нашего решения и итеративно улучшать его."
   ]
  },
  {
   "cell_type": "code",
   "execution_count": null,
   "id": "78a7a2bc",
   "metadata": {},
   "outputs": [],
   "source": []
  },
  {
   "cell_type": "code",
   "execution_count": null,
   "id": "8945103d",
   "metadata": {},
   "outputs": [],
   "source": [
    "X = data['height'].values\n",
    "y = data['weight'].values\n",
    "k = 0\n",
    "b = 0 \n",
    "y_pred = k * X + b "
   ]
  },
  {
   "cell_type": "code",
   "execution_count": null,
   "id": "3efb4935",
   "metadata": {},
   "outputs": [],
   "source": [
    "plt.scatter(data['height'], data['weight'], s=0.5, label='Истинное значение')\n",
    "plt.scatter(data['height'], y_pred, s=0.5, label='Предсказанное значение')\n",
    "plt.ylabel('Вес, кг')\n",
    "plt.xlabel('Рост, см')\n",
    "plt.title('Зависимость веса от роста')\n",
    "plt.legend();"
   ]
  },
  {
   "cell_type": "code",
   "execution_count": null,
   "id": "94cfef30",
   "metadata": {},
   "outputs": [],
   "source": [
    "from IPython.display import clear_output"
   ]
  },
  {
   "cell_type": "code",
   "execution_count": null,
   "id": "d7c0ca96",
   "metadata": {},
   "outputs": [],
   "source": [
    "k = 0\n",
    "b = 0\n",
    "N_ITER = 30\n",
    "learning_rate = 1e-5\n",
    "for i in range(N_ITER):\n",
    "    clear_output(True)\n",
    "    y_pred = k * X + b \n",
    "    error = y_pred - y\n",
    "    \n",
    "    plt.scatter(data['height'], data['weight'], s=0.5, label='Истинное значение')\n",
    "    plt.scatter(data['height'], y_pred, s=0.5, label='Предсказанное значение')\n",
    "    plt.ylabel('Вес, кг')\n",
    "    plt.xlabel('Рост, см')\n",
    "    plt.title(f'Зависимость веса от роста, итерация {i}. Средняя ошибка = {error.mean():.2f}')\n",
    "    plt.legend()\n",
    "    plt.show()\n",
    "    \n",
    "    k -= (error * X).mean() * learning_rate\n",
    "    b -= error.mean() * learning_rate"
   ]
  },
  {
   "cell_type": "code",
   "execution_count": null,
   "id": "522f3728",
   "metadata": {},
   "outputs": [],
   "source": [
    "from sklearn.linear_model import LinearRegression"
   ]
  },
  {
   "cell_type": "code",
   "execution_count": null,
   "id": "6fc0f36c",
   "metadata": {},
   "outputs": [],
   "source": [
    "lr = LinearRegression()\n",
    "lr.fit(X.reshape(-1, 1), y)"
   ]
  },
  {
   "cell_type": "code",
   "execution_count": null,
   "id": "a64cf3a4",
   "metadata": {},
   "outputs": [],
   "source": [
    "lr_pred = lr.predict(X.reshape(-1, 1))"
   ]
  },
  {
   "cell_type": "code",
   "execution_count": null,
   "id": "66539674",
   "metadata": {},
   "outputs": [],
   "source": [
    "lr.coef_"
   ]
  },
  {
   "cell_type": "code",
   "execution_count": null,
   "id": "4775d3ee",
   "metadata": {},
   "outputs": [],
   "source": [
    "lr.intercept_"
   ]
  },
  {
   "cell_type": "code",
   "execution_count": null,
   "id": "7da2eead",
   "metadata": {},
   "outputs": [],
   "source": [
    "plt.scatter(data['height'], data['weight'], s=0.5, label='Истинное значение')\n",
    "plt.scatter(data['height'], lr_pred, s=0.5, label='Предсказанное значение')\n",
    "plt.scatter(data['height'], y_pred, s=0.5, label='Предсказанное нами значение')\n",
    "plt.ylabel('Вес, кг')\n",
    "plt.xlabel('Рост, см')\n",
    "plt.title(f'Зависимость веса от роста')\n",
    "plt.legend()\n",
    "plt.show()"
   ]
  },
  {
   "cell_type": "markdown",
   "id": "61fb7200",
   "metadata": {},
   "source": [
    "![](https://www.saedsayad.com/images/LogReg_1.png)"
   ]
  },
  {
   "cell_type": "markdown",
   "id": "4c314fcf",
   "metadata": {},
   "source": [
    "## 2.0 Функции потерь и модели  \n",
    "Функция потерь -- функция, которая в теории статистических решений характеризует потери при неправильном принятии решений на основе наблюдаемых данных."
   ]
  },
  {
   "attachments": {
    "image.png": {
     "image/png": "[encoded data removed]"
    }
   },
   "cell_type": "markdown",
   "id": "d4eb2bae",
   "metadata": {},
   "source": [
    "![image.png](attachment:image.png)\n",
    "Janocha, K., & Czarnecki, W.M. (2017). On Loss Functions for Deep Neural Networks in Classification. ArXiv, abs/1702.05659."
   ]
  },
  {
   "cell_type": "markdown",
   "id": "8413f0f3",
   "metadata": {},
   "source": [
    "### Наивный Байес"
   ]
  },
  {
   "cell_type": "markdown",
   "id": "4a32bfe4",
   "metadata": {},
   "source": [
    "![](https://www.saedsayad.com/images/Bayes_rule.png)"
   ]
  },
  {
   "cell_type": "code",
   "execution_count": null,
   "id": "bee3d52b",
   "metadata": {},
   "outputs": [],
   "source": [
    "from sklearn.naive_bayes import GaussianNB"
   ]
  },
  {
   "cell_type": "code",
   "execution_count": null,
   "id": "eba77965",
   "metadata": {},
   "outputs": [],
   "source": [
    "classifier = GaussianNB()\n",
    "classifier.fit(X, y)\n",
    "y_pred = classifier.predict(another_X)"
   ]
  },
  {
   "cell_type": "markdown",
   "id": "73ac396c",
   "metadata": {},
   "source": [
    "### К-ближайших соседей \n",
    "![](https://www.ibm.com/content/dam/connectedassets-adobe-cms/worldwide-content/cdp/cf/ul/g/ef/3a/KNN.component.complex-narrative-xl.ts=1708637519167.png/content/adobe-cms/us/en/topics/knn/jcr:content/root/table_of_contents/body/content_section_styled/content-section-body/complex_narrative/items/content_group/image)"
   ]
  },
  {
   "cell_type": "code",
   "execution_count": null,
   "id": "f278b892",
   "metadata": {},
   "outputs": [],
   "source": [
    "from sklearn.neighbors import KNeighborsClassifier, KNeighborsRegressor"
   ]
  },
  {
   "cell_type": "code",
   "execution_count": null,
   "id": "3a0a10b0",
   "metadata": {},
   "outputs": [],
   "source": [
    "knn = KNeighborsRegressor()\n",
    "knn.fit(X, y)\n",
    "knn.predict(another_X)"
   ]
  },
  {
   "cell_type": "markdown",
   "id": "0b9486cf",
   "metadata": {},
   "source": [
    "### Деревья решений\n",
    "![](https://regenerativetoday.com/wp-content/uploads/2022/04/dt.png)\n",
    "![](https://i.pinimg.com/originals/91/d3/31/91d3314ae9bc6525ed709b08c0214255.png)\n",
    "![](https://www.researchgate.net/publication/347070799/figure/fig1/AS:970120969068545@1608306271088/Example-of-a-supervised-machine-learning-algorithm-a-decision-tree-Decision-trees-come.png)"
   ]
  },
  {
   "cell_type": "code",
   "execution_count": null,
   "id": "7e383d7f",
   "metadata": {},
   "outputs": [],
   "source": [
    "from sklearn.tree import DecisionTreeClassifier, DecisionTreeRegressor"
   ]
  },
  {
   "cell_type": "code",
   "execution_count": null,
   "id": "d1aa18d9",
   "metadata": {},
   "outputs": [],
   "source": [
    "tree = DecisionTreeClassifier()\n",
    "tree.fit(X, y)\n",
    "tree.predict(another_X)"
   ]
  },
  {
   "cell_type": "markdown",
   "id": "5090df29",
   "metadata": {},
   "source": [
    "## 2.1 Неодообучение, переобучение"
   ]
  },
  {
   "cell_type": "markdown",
   "id": "f2da2c85",
   "metadata": {},
   "source": [
    "![](https://docs.aws.amazon.com/images/machine-learning/latest/dg/images/mlconcepts_image5.png)"
   ]
  },
  {
   "cell_type": "code",
   "execution_count": null,
   "id": "a30d537d",
   "metadata": {},
   "outputs": [],
   "source": [
    "sigma = 1 / (1 + e ^ (-XW))"
   ]
  },
  {
   "cell_type": "code",
   "execution_count": null,
   "id": "1c95d2ec",
   "metadata": {},
   "outputs": [],
   "source": [
    "loss = sum((y_true - y_pred) ** 2) * 1 / n"
   ]
  },
  {
   "cell_type": "code",
   "execution_count": null,
   "id": "b8b6dd0d",
   "metadata": {},
   "outputs": [],
   "source": [
    "dloss / dW\n",
    "\n",
    "grad(loss) - growth\n",
    "-grad(loss) - downgrade"
   ]
  },
  {
   "cell_type": "code",
   "execution_count": null,
   "id": "871e35c7",
   "metadata": {},
   "outputs": [],
   "source": [
    "W = W - (dloss / dW)"
   ]
  },
  {
   "cell_type": "code",
   "execution_count": null,
   "id": "28eec86e",
   "metadata": {},
   "outputs": [],
   "source": [
    "y_pred = XW"
   ]
  },
  {
   "cell_type": "code",
   "execution_count": null,
   "id": "0b94d644",
   "metadata": {},
   "outputs": [],
   "source": [
    "from sklearn.datasets import make_regression\n",
    "\n",
    "\n",
    "X, y = make_regression(n_samples=30, n_features=1, noise=5, random_state=17)\n",
    "plt.scatter(X, y);"
   ]
  },
  {
   "cell_type": "code",
   "execution_count": null,
   "id": "d8dc45f6",
   "metadata": {},
   "outputs": [],
   "source": [
    "from sklearn.linear_model import SGDRegressor\n",
    "\n",
    "\n",
    "estimator = SGDRegressor(max_iter=1)\n",
    "estimator.fit(X, y)\n",
    "y_pred = estimator.predict(X)\n",
    "\n",
    "plt.scatter(X, y, label='true')\n",
    "plt.scatter(X, y_pred, label='pred')\n",
    "plt.legend();"
   ]
  },
  {
   "cell_type": "code",
   "execution_count": null,
   "id": "ff8a3a5d",
   "metadata": {},
   "outputs": [],
   "source": [
    "estimator = SGDRegressor()\n",
    "estimator.fit(X, y)\n",
    "y_pred = estimator.predict(X)\n",
    "\n",
    "plt.scatter(X, y, label='true')\n",
    "plt.scatter(X, y_pred, label='pred')\n",
    "plt.legend();"
   ]
  },
  {
   "cell_type": "code",
   "execution_count": null,
   "id": "7ca81cb5",
   "metadata": {},
   "outputs": [],
   "source": [
    "estimator.coef_"
   ]
  },
  {
   "cell_type": "code",
   "execution_count": null,
   "id": "13a1d59f",
   "metadata": {},
   "outputs": [],
   "source": [
    "estimator.intercept_"
   ]
  },
  {
   "cell_type": "code",
   "execution_count": null,
   "id": "e633651a",
   "metadata": {},
   "outputs": [],
   "source": [
    "y = w1 * x1 + w0"
   ]
  },
  {
   "cell_type": "code",
   "execution_count": null,
   "id": "ea8bd751",
   "metadata": {},
   "outputs": [],
   "source": [
    "y = w0 + w1 * x + w2 * x^2 + w3 * x^3 ... w9 * x^9"
   ]
  },
  {
   "cell_type": "code",
   "execution_count": null,
   "id": "ecfd539a",
   "metadata": {},
   "outputs": [],
   "source": [
    "from sklearn.preprocessing import PolynomialFeatures\n",
    "\n",
    "\n",
    "X_poly = PolynomialFeatures(degree=10).fit_transform(X)\n",
    "estimator = SGDRegressor()\n",
    "estimator.fit(X_poly, y)\n",
    "y_pred = estimator.predict(X_poly)\n",
    "\n",
    "plt.scatter(X, y, label='true')\n",
    "plt.scatter(X, y_pred, label='pred')\n",
    "plt.legend();"
   ]
  },
  {
   "cell_type": "code",
   "execution_count": null,
   "id": "43181c08",
   "metadata": {},
   "outputs": [],
   "source": [
    "import numpy as np\n",
    "\n",
    "\n",
    "X_sample = np.arange(-2, 1.5, step=0.01)\n",
    "X_poly = PolynomialFeatures(degree=10).fit_transform(X_sample.reshape(-1, 1))\n",
    "y_pred = estimator.predict(X_poly)\n",
    "plt.plot(y_pred, label='pred')\n",
    "plt.legend();"
   ]
  },
  {
   "cell_type": "code",
   "execution_count": null,
   "id": "78473779",
   "metadata": {},
   "outputs": [],
   "source": [
    "estimator.coef_"
   ]
  },
  {
   "cell_type": "markdown",
   "id": "bf4cd340",
   "metadata": {},
   "source": [
    "Большие веса означают переобучение модели"
   ]
  },
  {
   "cell_type": "markdown",
   "id": "81ff1c53",
   "metadata": {},
   "source": [
    "## 2.2.1 Метрики качества"
   ]
  },
  {
   "cell_type": "markdown",
   "id": "c238003e",
   "metadata": {},
   "source": [
    "#### Классификация\n",
    "\n",
    "Confusion Matrix\n",
    "![](https://plat.ai/wp-content/uploads/Table1-2.png.webp)\n",
    "Basic\n",
    "![](https://www.fticonsulting.com/insights/articles/-/media/ec68c768d8314ee9bd1d00109c2b603c.ashx)\n",
    "![](https://developers.google.com/static/machine-learning/crash-course/images/AUCPredictionsRanked.svg)\n",
    "![](data:image/png;base64,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)\n",
    "![](https://www.codecamp.ru/content/images/2021/08/read_roc2.png)"
   ]
  },
  {
   "cell_type": "markdown",
   "id": "de197b6a",
   "metadata": {},
   "source": [
    "#### Регрессия\n",
    "\n",
    "![](https://jonathan-sands.com/images/regression_metrics.png)\n",
    "![](https://www.freecodecamp.org/news/content/images/2022/08/image.png)"
   ]
  },
  {
   "cell_type": "markdown",
   "id": "2e101154",
   "metadata": {},
   "source": [
    "## 2.2 Как бороться с переобучением (overfitting) модели?"
   ]
  },
  {
   "cell_type": "markdown",
   "id": "e862a56f",
   "metadata": {},
   "source": [
    "### 2.2.1 Разделять выборку на тренировочную и тестовую"
   ]
  },
  {
   "cell_type": "markdown",
   "id": "0604f3ec",
   "metadata": {},
   "source": [
    "![](https://builtin.com/sites/www.builtin.com/files/styles/ckeditor_optimize/public/inline-images/4_train-test-split.jpg)"
   ]
  },
  {
   "cell_type": "code",
   "execution_count": null,
   "id": "b053f4b7",
   "metadata": {},
   "outputs": [],
   "source": [
    "from sklearn.model_selection import train_test_split\n",
    "\n",
    "\n",
    "X_train, X_test, y_train, y_test = train_test_split(X, y, test_size=0.2, random_state=17)"
   ]
  },
  {
   "cell_type": "markdown",
   "id": "57bc1de9",
   "metadata": {},
   "source": [
    "Обучаем модель на **тренировочной** выборке, смотрим метрики на **тестовой**"
   ]
  },
  {
   "cell_type": "code",
   "execution_count": null,
   "id": "430fe661",
   "metadata": {},
   "outputs": [],
   "source": [
    "from sklearn.metrics import mean_absolute_error\n",
    "\n",
    "\n",
    "estimator = SGDRegressor()\n",
    "estimator.fit(X_train, y_train)\n",
    "\n",
    "y_pred_test = estimator.predict(X_test)\n",
    "\n",
    "mae = mean_absolute_error(y_test, y_pred_test)\n",
    "print(f\"MAE Test = {mae:.2f}\")\n",
    "\n",
    "mae = mean_absolute_error(y_train, estimator.predict(X_train))\n",
    "print(f\"MAE Train = {mae:.2f}\")"
   ]
  },
  {
   "cell_type": "code",
   "execution_count": null,
   "id": "07357c80",
   "metadata": {},
   "outputs": [],
   "source": [
    "estimator = SGDRegressor() \n",
    "estimator.fit(PolynomialFeatures(degree=10).fit_transform(X_train), y_train)\n",
    "\n",
    "y_pred_test = estimator.predict(PolynomialFeatures(degree=10).fit_transform(X_test))\n",
    "\n",
    "mae = mean_absolute_error(y_test, y_pred_test)\n",
    "print(f\"MAE test = {mae:.2f}\")\n",
    "\n",
    "mae = mean_absolute_error(y_train, estimator.predict(PolynomialFeatures(degree=10).fit_transform(X_train)))\n",
    "print(f\"MAE train = {mae:.2f}\")"
   ]
  },
  {
   "cell_type": "markdown",
   "id": "04d6882d",
   "metadata": {},
   "source": [
    "Высокая ошибка на тесте = переобучились  \n",
    "Будем выбирать ту модель, которая на тесте показывает наименьшую ошибку"
   ]
  },
  {
   "cell_type": "markdown",
   "id": "d7e088e6",
   "metadata": {},
   "source": [
    "### Cross Validation для подбора гиперпараметров и выбора лучших моделей"
   ]
  },
  {
   "cell_type": "markdown",
   "id": "7f433f0e",
   "metadata": {},
   "source": [
    "![](https://scikit-learn.org/stable/_images/grid_search_cross_validation.png)"
   ]
  },
  {
   "cell_type": "markdown",
   "id": "2c786f12",
   "metadata": {},
   "source": [
    "**Обратите внимание!**  \n",
    "Кросс валидацию проводят на тренировочном множестве"
   ]
  },
  {
   "cell_type": "code",
   "execution_count": null,
   "id": "6b671e40",
   "metadata": {},
   "outputs": [],
   "source": [
    "X = np.arange(-10, 10, 0.01)\n",
    "y = X ** 2 + X ** 4\n",
    "plt.plot(X, y);"
   ]
  },
  {
   "cell_type": "code",
   "execution_count": null,
   "id": "db6ffad5",
   "metadata": {},
   "outputs": [],
   "source": [
    "y_new = y + np.random.normal(0, 200, y.shape)\n",
    "plt.scatter(X, y_new, s=3);"
   ]
  },
  {
   "cell_type": "code",
   "execution_count": null,
   "id": "98262261",
   "metadata": {},
   "outputs": [],
   "source": [
    "X_train, X_test, y_train, y_test = train_test_split(X, y_new, test_size=0.2, random_state=17)"
   ]
  },
  {
   "cell_type": "code",
   "execution_count": null,
   "id": "f210d862",
   "metadata": {},
   "outputs": [],
   "source": [
    "from sklearn.model_selection import cross_val_score\n",
    "\n",
    "\n",
    "cross_val_score(SGDRegressor(), X_train.reshape(-1, 1), y_train, scoring='neg_mean_absolute_error')"
   ]
  },
  {
   "cell_type": "code",
   "execution_count": null,
   "id": "fadf6647",
   "metadata": {},
   "outputs": [],
   "source": [
    "from sklearn.linear_model import Lasso\n",
    "\n",
    "\n",
    "powers = range(1, 8)\n",
    "for power in powers:\n",
    "    X_power = PolynomialFeatures(degree=power).fit_transform(X_train.reshape(-1, 1))\n",
    "    estimator = SGDRegressor()\n",
    "    cv_scores = cross_val_score(estimator, X_power, y_train, scoring='neg_mean_absolute_error')\n",
    "    print(f\"Power = {power:2}, CV negative-MAE = {cv_scores.mean():.2f}\")\n",
    "    \n",
    "    cv_scores = cross_val_score(Lasso(max_iter=50000), X_power, y_train, scoring='neg_mean_absolute_error')\n",
    "    print(f\"Lasso  --  Power = {power:2}, CV negative-MAE = {cv_scores.mean():.2f}\")"
   ]
  },
  {
   "cell_type": "code",
   "execution_count": null,
   "id": "bf78588c",
   "metadata": {},
   "outputs": [],
   "source": [
    "best_estimator = Lasso(max_iter=50000)\n",
    "X_power = PolynomialFeatures(degree=4).fit_transform(X_train.reshape(-1, 1))\n",
    "best_estimator.fit(X_power, y_train)"
   ]
  },
  {
   "cell_type": "code",
   "execution_count": null,
   "id": "47448bf4",
   "metadata": {},
   "outputs": [],
   "source": [
    "y_pred_test = best_estimator.predict(PolynomialFeatures(degree=4).fit_transform(X_test.reshape(-1, 1)))\n",
    "\n",
    "plt.scatter(X_test, y_test, alpha=0.5, label='true')\n",
    "plt.scatter(X_test, y_pred_test, alpha=0.5, label='predict')\n",
    "plt.legend();"
   ]
  },
  {
   "cell_type": "markdown",
   "id": "3af6df43",
   "metadata": {},
   "source": [
    "### 2.2.2 Регуляризация"
   ]
  },
  {
   "cell_type": "markdown",
   "id": "08b68d05",
   "metadata": {},
   "source": [
    "![](https://camo.githubusercontent.com/c6bad12af0242455193151eed8482efc3645188c78d37636c1d41eb9c58d1d10/68747470733a2f2f6d69726f2e6d656469756d2e636f6d2f6d61782f3535302f312a2d4c79646851454479672d347979356847456a3577412e706e67)"
   ]
  },
  {
   "cell_type": "code",
   "execution_count": null,
   "id": "c9257d4f",
   "metadata": {},
   "outputs": [],
   "source": [
    "from sklearn.linear_model import Ridge, Lasso\n",
    "\n",
    "\n",
    "X_power = PolynomialFeatures(degree=15).fit_transform(X_train.reshape(-1, 1))\n",
    "X_power_test = PolynomialFeatures(degree=15).fit_transform(X_test.reshape(-1, 1))\n",
    "\n",
    "lasso = Lasso(max_iter=500000)\n",
    "lasso.fit(X_power, y_train)\n",
    "lasso_predict = lasso.predict(X_power_test)\n",
    "\n",
    "ridge = Ridge(max_iter=500000)\n",
    "ridge.fit(X_power, y_train)\n",
    "ridge_predict = ridge.predict(X_power_test)\n",
    "\n",
    "\n",
    "plt.scatter(X_test, lasso_predict, alpha=0.5, label='Lasso')\n",
    "plt.scatter(X_test, ridge_predict, alpha=0.5, label='Ridge')\n",
    "plt.legend();"
   ]
  },
  {
   "cell_type": "code",
   "execution_count": null,
   "id": "54117a5e",
   "metadata": {},
   "outputs": [],
   "source": [
    "lasso.coef_"
   ]
  },
  {
   "cell_type": "code",
   "execution_count": null,
   "id": "1e0e0140",
   "metadata": {},
   "outputs": [],
   "source": [
    "ridge.coef_"
   ]
  },
  {
   "cell_type": "markdown",
   "id": "7b866861",
   "metadata": {},
   "source": [
    "L1 зануляет веса, L2 не зануляет"
   ]
  },
  {
   "cell_type": "markdown",
   "id": "ae98519c",
   "metadata": {},
   "source": [
    "![](https://www.researchgate.net/publication/281210149/figure/fig3/AS:668932620967964@1536497373944/a-The-L1-loss-function-blue-square-in-relationship-to-the-minimal-achievable-loss-b.png)"
   ]
  },
  {
   "cell_type": "markdown",
   "id": "64955862",
   "metadata": {},
   "source": [
    "### 2.2.3 Упростить модель"
   ]
  },
  {
   "cell_type": "markdown",
   "id": "3375b2fd",
   "metadata": {},
   "source": [
    "# 2.3 Как бороться с недообученностью (underfitting)?\n",
    "1. Увеличивать количество итераций, чтобы градиентный спуск достиг минимума\n",
    "2. Усложнять модель"
   ]
  },
  {
   "cell_type": "markdown",
   "id": "52e67818",
   "metadata": {},
   "source": [
    "# 3. Предобработка признаков"
   ]
  },
  {
   "cell_type": "markdown",
   "id": "7acbd187",
   "metadata": {},
   "source": [
    "## 3.1 Числовые переменные"
   ]
  },
  {
   "cell_type": "markdown",
   "id": "4404fbff",
   "metadata": {},
   "source": [
    "### 3.1.1 Логарифмирование (либо применение других функций)"
   ]
  },
  {
   "cell_type": "code",
   "execution_count": null,
   "id": "6fff1448",
   "metadata": {},
   "outputs": [],
   "source": [
    "DATA_URL = \"https://raw.githubusercontent.com/stedy/Machine-Learning-with-R-datasets/master/insurance.csv\"\n",
    "data = pd.read_csv(DATA_URL)"
   ]
  },
  {
   "cell_type": "code",
   "execution_count": null,
   "id": "d55283d7",
   "metadata": {},
   "outputs": [],
   "source": [
    "data.head()"
   ]
  },
  {
   "cell_type": "code",
   "execution_count": null,
   "id": "36ad8b00",
   "metadata": {},
   "outputs": [],
   "source": [
    "data['charges'].hist();"
   ]
  },
  {
   "cell_type": "code",
   "execution_count": null,
   "id": "133f3063",
   "metadata": {},
   "outputs": [],
   "source": [
    "data['charges_log'] = np.log(data['charges'])\n",
    "data['charges_log'].hist();"
   ]
  },
  {
   "cell_type": "markdown",
   "id": "ed7c4f79",
   "metadata": {},
   "source": [
    "### 3.1.2 Масштабирование"
   ]
  },
  {
   "cell_type": "markdown",
   "id": "cc434f2c",
   "metadata": {},
   "source": [
    "MinMaxScaler\n",
    "![](http://androidkt.com/wp-content/uploads/2020/10/Selection_060.png)  \n",
    "---\n",
    "StandartScaler\n",
    "![](https://cdn-images-1.medium.com/max/370/1*Nlgc_wq2b-VfdawWX9MLWA.png)"
   ]
  },
  {
   "cell_type": "code",
   "execution_count": null,
   "id": "da1a78da",
   "metadata": {},
   "outputs": [],
   "source": [
    "from sklearn.preprocessing import StandardScaler, MinMaxScaler\n",
    "\n",
    "\n",
    "standart_scaled = StandardScaler().fit_transform(data['bmi'].values.reshape(-1, 1))\n",
    "minmax_scaled = MinMaxScaler().fit_transform(data['bmi'].values.reshape(-1, 1))"
   ]
  },
  {
   "cell_type": "code",
   "execution_count": null,
   "id": "e741c6ed",
   "metadata": {},
   "outputs": [],
   "source": [
    "fig, axes = plt.subplots(ncols=3, figsize=(12, 3))\n",
    "\n",
    "axes[0].scatter(range(len(standart_scaled)), data['bmi'].values.reshape(-1, 1))\n",
    "axes[0].set_title(\"Original\")\n",
    "\n",
    "axes[1].scatter(range(len(standart_scaled)), standart_scaled)\n",
    "axes[1].set_title(\"Standart scale\")\n",
    "\n",
    "axes[2].scatter(range(len(standart_scaled)), minmax_scaled)\n",
    "axes[2].set_title(\"MinMax scale\");"
   ]
  },
  {
   "cell_type": "code",
   "execution_count": null,
   "id": "83f52f8e",
   "metadata": {},
   "outputs": [],
   "source": [
    "from sklearn.preprocessing import QuantileTransformer"
   ]
  },
  {
   "cell_type": "code",
   "execution_count": null,
   "id": "0d0bacc2",
   "metadata": {},
   "outputs": [],
   "source": [
    "quantiles = QuantileTransformer().fit_transform(data['bmi'].values.reshape(-1, 1))"
   ]
  },
  {
   "cell_type": "code",
   "execution_count": null,
   "id": "1fcf53ee",
   "metadata": {},
   "outputs": [],
   "source": [
    "plt.scatter(range(len(standart_scaled)), quantiles);"
   ]
  },
  {
   "cell_type": "code",
   "execution_count": null,
   "id": "b080f8ed",
   "metadata": {},
   "outputs": [],
   "source": [
    "plt.hist(data['bmi']);"
   ]
  },
  {
   "cell_type": "code",
   "execution_count": null,
   "id": "935ac872",
   "metadata": {},
   "outputs": [],
   "source": [
    "plt.hist(quantiles);"
   ]
  },
  {
   "cell_type": "markdown",
   "id": "36afdd1f",
   "metadata": {},
   "source": [
    "## 3.2 Категориальные признаки"
   ]
  },
  {
   "cell_type": "markdown",
   "id": "b85806b5",
   "metadata": {},
   "source": [
    "### 3.2.1 Label Encoder"
   ]
  },
  {
   "cell_type": "code",
   "execution_count": null,
   "id": "a085c0e4",
   "metadata": {},
   "outputs": [],
   "source": [
    "from sklearn.preprocessing import LabelEncoder\n",
    "\n",
    "\n",
    "data['sex_LE'] = LabelEncoder().fit_transform(data['sex'])\n",
    "data['smoker_LE'] = LabelEncoder().fit_transform(data['smoker'])\n",
    "data['region_LE'] = LabelEncoder().fit_transform(data['region'])"
   ]
  },
  {
   "cell_type": "code",
   "execution_count": null,
   "id": "f67a244b",
   "metadata": {},
   "outputs": [],
   "source": [
    "data.head()"
   ]
  },
  {
   "cell_type": "code",
   "execution_count": null,
   "id": "a9899bd0",
   "metadata": {},
   "outputs": [],
   "source": [
    "data['sex'].hist();"
   ]
  },
  {
   "cell_type": "code",
   "execution_count": null,
   "id": "ec7ac959",
   "metadata": {},
   "outputs": [],
   "source": [
    "data['region'].hist();"
   ]
  },
  {
   "cell_type": "markdown",
   "id": "9d4d3e58",
   "metadata": {},
   "source": [
    "### 3.2.2 One Hot Encoding"
   ]
  },
  {
   "cell_type": "markdown",
   "id": "27c675c3",
   "metadata": {},
   "source": [
    "![](https://datagy.io/wp-content/uploads/2022/01/One-Hot-Encoding-for-Scikit-Learn-in-Python-Explained-1024x576.png)"
   ]
  },
  {
   "cell_type": "code",
   "execution_count": null,
   "id": "f132d2fb",
   "metadata": {},
   "outputs": [],
   "source": [
    "from sklearn.preprocessing import OneHotEncoder\n",
    "\n",
    "\n",
    "sparsed_matrix = OneHotEncoder().fit_transform(data['region'].values.reshape(-1, 1))\n",
    "sparsed_matrix.toarray()"
   ]
  },
  {
   "cell_type": "code",
   "execution_count": null,
   "id": "dd293ed0",
   "metadata": {},
   "outputs": [],
   "source": [
    "dummy_data = pd.get_dummies(data[['sex', 'smoker', 'region']])\n",
    "dummy_data.head()"
   ]
  },
  {
   "cell_type": "markdown",
   "id": "92dca795",
   "metadata": {},
   "source": [
    "### 3.2.3 Стараться в информативность кодирования"
   ]
  },
  {
   "cell_type": "code",
   "execution_count": null,
   "id": "d237ed85",
   "metadata": {},
   "outputs": [],
   "source": [
    "data.groupby(['region']).mean()['charges_log'].to_dict()"
   ]
  },
  {
   "cell_type": "code",
   "execution_count": null,
   "id": "b615490f",
   "metadata": {},
   "outputs": [],
   "source": [
    "data['region_encoded'] = data['region'].replace(data.groupby(['region']).mean()['charges_log'].to_dict())"
   ]
  },
  {
   "cell_type": "code",
   "execution_count": null,
   "id": "203b1ea6",
   "metadata": {},
   "outputs": [],
   "source": [
    "data.head()"
   ]
  },
  {
   "cell_type": "markdown",
   "id": "2df59a24",
   "metadata": {},
   "source": [
    "Для классификации можно вставлять величины, основанные на вероятностях события при данном классе  \n",
    "Например WoE  \n",
    "![](data:image/png;base64,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)"
   ]
  },
  {
   "cell_type": "markdown",
   "id": "2ca6deae",
   "metadata": {},
   "source": [
    "# 4. Работа с пропущенными значениями"
   ]
  },
  {
   "cell_type": "markdown",
   "id": "f1c444f9",
   "metadata": {},
   "source": [
    "## 4.1 Выкинуть наблюдения с прощенными значениями"
   ]
  },
  {
   "cell_type": "code",
   "execution_count": null,
   "id": "9b678a4d",
   "metadata": {},
   "outputs": [],
   "source": [
    "data.dropna(how='any')"
   ]
  },
  {
   "cell_type": "markdown",
   "id": "be3fac4a",
   "metadata": {},
   "source": [
    "## 4.2 Замена на что-либо\n",
    "На что заменяют:\n",
    "- Мода\n",
    "- Среднее\n",
    "- Максимум\n",
    "- Минимум\n",
    "- Отдельная категория вроде \"Unknown\" (для категориальных)"
   ]
  },
  {
   "cell_type": "code",
   "execution_count": null,
   "id": "528cfc34",
   "metadata": {},
   "outputs": [],
   "source": [
    "data.fillna({\"age\": np.mean(data['age']), \n",
    "             \"bmi\": np.max(data['bmi']), \n",
    "             \"smoker\": \"unknown\", \n",
    "             \"region\": data['region'].mode().values[0]})"
   ]
  },
  {
   "cell_type": "code",
   "execution_count": null,
   "id": "46f32d42",
   "metadata": {},
   "outputs": [],
   "source": []
  }
 ],
 "metadata": {
  "kernelspec": {
   "display_name": "Python 3",
   "language": "python",
   "name": "python3"
  },
  "language_info": {
   "codemirror_mode": {
    "name": "ipython",
    "version": 3
   },
   "file_extension": ".py",
   "mimetype": "text/x-python",
   "name": "python",
   "nbconvert_exporter": "python",
   "pygments_lexer": "ipython3",
   "version": "3.13.0"
  }
 },
 "nbformat": 4,
 "nbformat_minor": 5
}
