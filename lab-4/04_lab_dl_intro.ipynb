{
 "cells": [
  {
   "cell_type": "markdown",
   "id": "bc9520d2",
   "metadata": {},
   "source": [
    "# Лабораторная работа №4\n",
    "\n",
    "ФИО: Поляховская Ольга Александровна\n",
    "Группа: БИВТ-22-СП-2\n",
    "\n",
    "\n",
    "Исходные данные:\n",
    "1. В [табличке](https://docs.google.com/spreadsheets/d/1k2MYXEp_OVQrink_XRC1PwoM0ZuNMeNz4VTWY7cI3hE/edit?usp=sharing) необходимо узнать название своего датасета \n",
    "2. Скачать нужны вам данные можно в [Google Drive](https://drive.google.com/drive/folders/1Phm-Fq1GL-VX7NS-DCEMRh_Fo1wU7DQ9?usp=sharing)\n",
    "  \n",
    "---\n",
    "Теперь по пунктам, что я от вас жду:  \n",
    "1. Загрузить необходимые данные к себе и считать (read) их в переменную.\n",
    "2. Понять, у вас задача классификации (бинарной или многоклассовой) или регрессии.\n",
    "3. Сделать предобработку данных:  \n",
    "     1. Разделить выборку на тренировочную (train) и тестовую (test). _Обратите внимание, что обучать скейлеры и определять, какими значениями вы будете заполнять пропуски, вы будете на train выборке, а применять и на train, и на test_.\n",
    "     2. Проверить пропуски в данных. Если они есть, заполнить одной из стратегий, предложенных в ноутбуке для семинара №3. P.S. Для численных и категориальных переменных будут разные стратегии.\n",
    "     3. Отнормировать численные переменные (`StandardScaler`, `MinMaxScaler`).\n",
    "     4. Закодировать категориальные признаки по одной из стратегий.\n",
    "4. Оформить данные в виде класса `Dataset` из библиотеки `torch` (как мы это делали на семинаре), а затем засунуть в `Dataloader` (тоже делали на семинаре).\n",
    "5. Обучить на тренировочном множестве:\n",
    "     1. Очень простую однослойную нейросеть с оптимизатором `SGD` ([link](https://pytorch.org/docs/stable/optim.html)).\n",
    "     2. Нейросеть посложнее (с 1 скрытым слоем) с оптимизатором `Adam` ([link](https://pytorch.org/docs/stable/optim.html)).\n",
    "     3. Нейросеть еще сложнее (с 3+ скрытыми слоями) с оптимизатором `Adam` ([link](https://pytorch.org/docs/stable/optim.html)).\n",
    "6. Посчитайте loss на train и test множествах, в зависимости от эпохи обучения. Провизуализируйте это с помощью библиотеки `matplotlib` (выйдет так называемая **learning curve**, кривая обучения модели).\n",
    "6. Посчитайте метрики на train и test множествах:\n",
    "     1. Для задачи классификации -- Accuracy\n",
    "     2. Для задачи регрессии -- MAE\n",
    "7. Сравните метрики относительно train/test, так и относительно разных моделей. Ответьте на следующие вопросы:\n",
    "     1. Какая модель справилась лучше с поставленной задачей?\n",
    "     2. Имеет ли место переобучение?\n",
    "     3. Имеет ли место недообучение?\n",
    "     4. Как можно улучшить метрики моделей?"
   ]
  },
  {
   "cell_type": "markdown",
   "id": "28b51062",
   "metadata": {},
   "source": [
    "## 1. Пример импорта данных. Грузим данные"
   ]
  },
  {
   "cell_type": "code",
   "execution_count": 1,
   "id": "406597a7",
   "metadata": {},
   "outputs": [
    {
     "data": {
      "text/html": [
       "<div>\n",
       "<style scoped>\n",
       "    .dataframe tbody tr th:only-of-type {\n",
       "        vertical-align: middle;\n",
       "    }\n",
       "\n",
       "    .dataframe tbody tr th {\n",
       "        vertical-align: top;\n",
       "    }\n",
       "\n",
       "    .dataframe thead th {\n",
       "        text-align: right;\n",
       "    }\n",
       "</style>\n",
       "<table border=\"1\" class=\"dataframe\">\n",
       "  <thead>\n",
       "    <tr style=\"text-align: right;\">\n",
       "      <th></th>\n",
       "      <th>fixed acidity</th>\n",
       "      <th>volatile acidity</th>\n",
       "      <th>citric acid</th>\n",
       "      <th>residual sugar</th>\n",
       "      <th>chlorides</th>\n",
       "      <th>free sulfur dioxide</th>\n",
       "      <th>total sulfur dioxide</th>\n",
       "      <th>density</th>\n",
       "      <th>pH</th>\n",
       "      <th>sulphates</th>\n",
       "      <th>alcohol</th>\n",
       "      <th>quality</th>\n",
       "    </tr>\n",
       "  </thead>\n",
       "  <tbody>\n",
       "    <tr>\n",
       "      <th>0</th>\n",
       "      <td>7.4</td>\n",
       "      <td>0.700</td>\n",
       "      <td>0.00</td>\n",
       "      <td>1.9</td>\n",
       "      <td>0.076</td>\n",
       "      <td>11.0</td>\n",
       "      <td>34.0</td>\n",
       "      <td>0.99780</td>\n",
       "      <td>3.51</td>\n",
       "      <td>0.56</td>\n",
       "      <td>9.4</td>\n",
       "      <td>5</td>\n",
       "    </tr>\n",
       "    <tr>\n",
       "      <th>1</th>\n",
       "      <td>7.8</td>\n",
       "      <td>0.880</td>\n",
       "      <td>0.00</td>\n",
       "      <td>2.6</td>\n",
       "      <td>0.098</td>\n",
       "      <td>25.0</td>\n",
       "      <td>67.0</td>\n",
       "      <td>0.99680</td>\n",
       "      <td>3.20</td>\n",
       "      <td>0.68</td>\n",
       "      <td>9.8</td>\n",
       "      <td>5</td>\n",
       "    </tr>\n",
       "    <tr>\n",
       "      <th>2</th>\n",
       "      <td>7.8</td>\n",
       "      <td>0.760</td>\n",
       "      <td>0.04</td>\n",
       "      <td>2.3</td>\n",
       "      <td>0.092</td>\n",
       "      <td>15.0</td>\n",
       "      <td>54.0</td>\n",
       "      <td>0.99700</td>\n",
       "      <td>3.26</td>\n",
       "      <td>0.65</td>\n",
       "      <td>9.8</td>\n",
       "      <td>5</td>\n",
       "    </tr>\n",
       "    <tr>\n",
       "      <th>3</th>\n",
       "      <td>11.2</td>\n",
       "      <td>0.280</td>\n",
       "      <td>0.56</td>\n",
       "      <td>1.9</td>\n",
       "      <td>0.075</td>\n",
       "      <td>17.0</td>\n",
       "      <td>60.0</td>\n",
       "      <td>0.99800</td>\n",
       "      <td>3.16</td>\n",
       "      <td>0.58</td>\n",
       "      <td>9.8</td>\n",
       "      <td>6</td>\n",
       "    </tr>\n",
       "    <tr>\n",
       "      <th>4</th>\n",
       "      <td>7.4</td>\n",
       "      <td>0.700</td>\n",
       "      <td>0.00</td>\n",
       "      <td>1.9</td>\n",
       "      <td>0.076</td>\n",
       "      <td>11.0</td>\n",
       "      <td>34.0</td>\n",
       "      <td>0.99780</td>\n",
       "      <td>3.51</td>\n",
       "      <td>0.56</td>\n",
       "      <td>9.4</td>\n",
       "      <td>5</td>\n",
       "    </tr>\n",
       "    <tr>\n",
       "      <th>...</th>\n",
       "      <td>...</td>\n",
       "      <td>...</td>\n",
       "      <td>...</td>\n",
       "      <td>...</td>\n",
       "      <td>...</td>\n",
       "      <td>...</td>\n",
       "      <td>...</td>\n",
       "      <td>...</td>\n",
       "      <td>...</td>\n",
       "      <td>...</td>\n",
       "      <td>...</td>\n",
       "      <td>...</td>\n",
       "    </tr>\n",
       "    <tr>\n",
       "      <th>1594</th>\n",
       "      <td>6.2</td>\n",
       "      <td>0.600</td>\n",
       "      <td>0.08</td>\n",
       "      <td>2.0</td>\n",
       "      <td>0.090</td>\n",
       "      <td>32.0</td>\n",
       "      <td>44.0</td>\n",
       "      <td>0.99490</td>\n",
       "      <td>3.45</td>\n",
       "      <td>0.58</td>\n",
       "      <td>10.5</td>\n",
       "      <td>5</td>\n",
       "    </tr>\n",
       "    <tr>\n",
       "      <th>1595</th>\n",
       "      <td>5.9</td>\n",
       "      <td>0.550</td>\n",
       "      <td>0.10</td>\n",
       "      <td>2.2</td>\n",
       "      <td>0.062</td>\n",
       "      <td>39.0</td>\n",
       "      <td>51.0</td>\n",
       "      <td>0.99512</td>\n",
       "      <td>3.52</td>\n",
       "      <td>0.76</td>\n",
       "      <td>11.2</td>\n",
       "      <td>6</td>\n",
       "    </tr>\n",
       "    <tr>\n",
       "      <th>1596</th>\n",
       "      <td>6.3</td>\n",
       "      <td>0.510</td>\n",
       "      <td>0.13</td>\n",
       "      <td>2.3</td>\n",
       "      <td>0.076</td>\n",
       "      <td>29.0</td>\n",
       "      <td>40.0</td>\n",
       "      <td>0.99574</td>\n",
       "      <td>3.42</td>\n",
       "      <td>0.75</td>\n",
       "      <td>11.0</td>\n",
       "      <td>6</td>\n",
       "    </tr>\n",
       "    <tr>\n",
       "      <th>1597</th>\n",
       "      <td>5.9</td>\n",
       "      <td>0.645</td>\n",
       "      <td>0.12</td>\n",
       "      <td>2.0</td>\n",
       "      <td>0.075</td>\n",
       "      <td>32.0</td>\n",
       "      <td>44.0</td>\n",
       "      <td>0.99547</td>\n",
       "      <td>3.57</td>\n",
       "      <td>0.71</td>\n",
       "      <td>10.2</td>\n",
       "      <td>5</td>\n",
       "    </tr>\n",
       "    <tr>\n",
       "      <th>1598</th>\n",
       "      <td>6.0</td>\n",
       "      <td>0.310</td>\n",
       "      <td>0.47</td>\n",
       "      <td>3.6</td>\n",
       "      <td>0.067</td>\n",
       "      <td>18.0</td>\n",
       "      <td>42.0</td>\n",
       "      <td>0.99549</td>\n",
       "      <td>3.39</td>\n",
       "      <td>0.66</td>\n",
       "      <td>11.0</td>\n",
       "      <td>6</td>\n",
       "    </tr>\n",
       "  </tbody>\n",
       "</table>\n",
       "<p>1599 rows × 12 columns</p>\n",
       "</div>"
      ],
      "text/plain": [
       "      fixed acidity  volatile acidity  citric acid  residual sugar  chlorides  \\\n",
       "0               7.4             0.700         0.00             1.9      0.076   \n",
       "1               7.8             0.880         0.00             2.6      0.098   \n",
       "2               7.8             0.760         0.04             2.3      0.092   \n",
       "3              11.2             0.280         0.56             1.9      0.075   \n",
       "4               7.4             0.700         0.00             1.9      0.076   \n",
       "...             ...               ...          ...             ...        ...   \n",
       "1594            6.2             0.600         0.08             2.0      0.090   \n",
       "1595            5.9             0.550         0.10             2.2      0.062   \n",
       "1596            6.3             0.510         0.13             2.3      0.076   \n",
       "1597            5.9             0.645         0.12             2.0      0.075   \n",
       "1598            6.0             0.310         0.47             3.6      0.067   \n",
       "\n",
       "      free sulfur dioxide  total sulfur dioxide  density    pH  sulphates  \\\n",
       "0                    11.0                  34.0  0.99780  3.51       0.56   \n",
       "1                    25.0                  67.0  0.99680  3.20       0.68   \n",
       "2                    15.0                  54.0  0.99700  3.26       0.65   \n",
       "3                    17.0                  60.0  0.99800  3.16       0.58   \n",
       "4                    11.0                  34.0  0.99780  3.51       0.56   \n",
       "...                   ...                   ...      ...   ...        ...   \n",
       "1594                 32.0                  44.0  0.99490  3.45       0.58   \n",
       "1595                 39.0                  51.0  0.99512  3.52       0.76   \n",
       "1596                 29.0                  40.0  0.99574  3.42       0.75   \n",
       "1597                 32.0                  44.0  0.99547  3.57       0.71   \n",
       "1598                 18.0                  42.0  0.99549  3.39       0.66   \n",
       "\n",
       "      alcohol  quality  \n",
       "0         9.4        5  \n",
       "1         9.8        5  \n",
       "2         9.8        5  \n",
       "3         9.8        6  \n",
       "4         9.4        5  \n",
       "...       ...      ...  \n",
       "1594     10.5        5  \n",
       "1595     11.2        6  \n",
       "1596     11.0        6  \n",
       "1597     10.2        5  \n",
       "1598     11.0        6  \n",
       "\n",
       "[1599 rows x 12 columns]"
      ]
     },
     "execution_count": 1,
     "metadata": {},
     "output_type": "execute_result"
    }
   ],
   "source": [
    "import pandas as pd\n",
    "import math as m\n",
    "import numpy as np\n",
    "import matplotlib.pyplot as plt\n",
    "from sklearn.preprocessing import MinMaxScaler\n",
    "\n",
    "data = pd.read_csv('winequality-red.csv', sep=',')\n",
    "data"
   ]
  },
  {
   "cell_type": "markdown",
   "id": "0d119028",
   "metadata": {},
   "source": [
    "## 2. Понимаем, какая перед нами задача"
   ]
  },
  {
   "cell_type": "markdown",
   "id": "866a5d47",
   "metadata": {},
   "source": [
    "Перед нами задача регрессии на прогнозирование оценки красного вина на основе множества парметров его химического состава и вкусовых ощущений."
   ]
  },
  {
   "cell_type": "markdown",
   "id": "34931f43",
   "metadata": {},
   "source": [
    "## 3. Делаем предобработку данных"
   ]
  },
  {
   "cell_type": "markdown",
   "id": "6fdb529a",
   "metadata": {},
   "source": [
    "Проверка пропусков в датасете"
   ]
  },
  {
   "cell_type": "code",
   "execution_count": 2,
   "id": "67a611d0",
   "metadata": {},
   "outputs": [
    {
     "name": "stdout",
     "output_type": "stream",
     "text": [
      "Пропуски в колонках датасета:\n",
      "fixed acidity           0\n",
      "volatile acidity        0\n",
      "citric acid             0\n",
      "residual sugar          0\n",
      "chlorides               0\n",
      "free sulfur dioxide     0\n",
      "total sulfur dioxide    0\n",
      "density                 0\n",
      "pH                      0\n",
      "sulphates               0\n",
      "alcohol                 0\n",
      "quality                 0\n",
      "dtype: int64\n"
     ]
    }
   ],
   "source": [
    "print(f'Пропуски в колонках датасета:\\n{data.isnull().sum()}')"
   ]
  },
  {
   "cell_type": "markdown",
   "id": "eaa77341",
   "metadata": {},
   "source": [
    "Разделение выборки на тренировочную и тестовую"
   ]
  },
  {
   "cell_type": "code",
   "execution_count": 3,
   "id": "bc2c685b",
   "metadata": {},
   "outputs": [
    {
     "name": "stdout",
     "output_type": "stream",
     "text": [
      "Тренировочная выборка x:\n",
      "      fixed acidity  volatile acidity  citric acid  residual sugar  chlorides  \\\n",
      "781             6.5             0.460         0.14             2.4      0.114   \n",
      "308            10.3             0.430         0.44             2.4      0.214   \n",
      "323            10.3             0.590         0.42             2.8      0.090   \n",
      "364            12.8             0.615         0.66             5.8      0.083   \n",
      "1138            7.5             0.410         0.15             3.7      0.104   \n",
      "...             ...               ...          ...             ...        ...   \n",
      "1572            7.3             0.690         0.32             2.2      0.069   \n",
      "256             9.4             0.340         0.37             2.2      0.075   \n",
      "1289            7.0             0.600         0.30             4.5      0.068   \n",
      "540             9.2             0.590         0.24             3.3      0.101   \n",
      "1364            7.2             0.605         0.02             1.9      0.096   \n",
      "\n",
      "      free sulfur dioxide  total sulfur dioxide  density    pH  sulphates  \\\n",
      "781                   9.0                  37.0  0.99732  3.66       0.65   \n",
      "308                   5.0                  12.0  0.99940  3.19       0.63   \n",
      "323                  35.0                  73.0  0.99900  3.28       0.70   \n",
      "364                   7.0                  42.0  1.00220  3.07       0.73   \n",
      "1138                 29.0                  94.0  0.99786  3.14       0.58   \n",
      "...                   ...                   ...      ...   ...        ...   \n",
      "1572                 35.0                 104.0  0.99632  3.33       0.51   \n",
      "256                   5.0                  13.0  0.99800  3.22       0.62   \n",
      "1289                 20.0                 110.0  0.99914  3.30       1.17   \n",
      "540                  20.0                  47.0  0.99880  3.26       0.67   \n",
      "1364                 10.0                  31.0  0.99500  3.46       0.53   \n",
      "\n",
      "      alcohol  \n",
      "781       9.8  \n",
      "308       9.5  \n",
      "323       9.5  \n",
      "364      10.0  \n",
      "1138      9.1  \n",
      "...       ...  \n",
      "1572      9.5  \n",
      "256       9.2  \n",
      "1289     10.2  \n",
      "540       9.6  \n",
      "1364     11.8  \n",
      "\n",
      "[1119 rows x 11 columns]\n",
      "\n",
      "Тренировочная выборка y:\n",
      "       0\n",
      "781   5\n",
      "308   6\n",
      "323   6\n",
      "364   7\n",
      "1138  5\n",
      "...  ..\n",
      "1572  5\n",
      "256   5\n",
      "1289  5\n",
      "540   5\n",
      "1364  6\n",
      "\n",
      "[1119 rows x 1 columns]\n",
      "\n",
      "Тестовая выборка x:\n",
      "       fixed acidity  volatile acidity  citric acid  residual sugar  chlorides  \\\n",
      "735             7.7             0.965         0.10             2.1      0.112   \n",
      "496             7.8             0.520         0.25             1.9      0.081   \n",
      "1582            6.1             0.715         0.10             2.6      0.053   \n",
      "870             7.7             0.715         0.01             2.1      0.064   \n",
      "1115            7.0             0.690         0.07             2.5      0.091   \n",
      "...             ...               ...          ...             ...        ...   \n",
      "1567            7.2             0.695         0.13             2.0      0.076   \n",
      "143             6.3             0.390         0.08             1.7      0.066   \n",
      "806             8.4             0.250         0.39             2.0      0.041   \n",
      "1593            6.8             0.620         0.08             1.9      0.068   \n",
      "1542            6.7             0.855         0.02             1.9      0.064   \n",
      "\n",
      "      free sulfur dioxide  total sulfur dioxide  density    pH  sulphates  \\\n",
      "735                  11.0                  22.0  0.99630  3.26       0.50   \n",
      "496                  14.0                  38.0  0.99840  3.43       0.65   \n",
      "1582                 13.0                  27.0  0.99362  3.57       0.50   \n",
      "870                  31.0                  43.0  0.99371  3.41       0.57   \n",
      "1115                 15.0                  21.0  0.99572  3.38       0.60   \n",
      "...                   ...                   ...      ...   ...        ...   \n",
      "1567                 12.0                  20.0  0.99546  3.29       0.54   \n",
      "143                   3.0                  20.0  0.99540  3.34       0.58   \n",
      "806                   4.0                  10.0  0.99386  3.27       0.71   \n",
      "1593                 28.0                  38.0  0.99651  3.42       0.82   \n",
      "1542                 29.0                  38.0  0.99472  3.30       0.56   \n",
      "\n",
      "      alcohol  \n",
      "735      9.50  \n",
      "496      9.00  \n",
      "1582    11.90  \n",
      "870     11.80  \n",
      "1115    11.30  \n",
      "...       ...  \n",
      "1567    10.10  \n",
      "143      9.40  \n",
      "806     12.50  \n",
      "1593     9.50  \n",
      "1542    10.75  \n",
      "\n",
      "[480 rows x 11 columns]\n",
      "\n",
      "Тестовая выборка y:\n",
      "       0\n",
      "735   5\n",
      "496   6\n",
      "1582  5\n",
      "870   6\n",
      "1115  6\n",
      "...  ..\n",
      "1567  5\n",
      "143   5\n",
      "806   7\n",
      "1593  6\n",
      "1542  6\n",
      "\n",
      "[480 rows x 1 columns]\n",
      "\n"
     ]
    }
   ],
   "source": [
    "from sklearn.model_selection import train_test_split\n",
    "\n",
    "x = data.drop(columns=['quality'])\n",
    "y = pd.DataFrame(data['quality'].values)\n",
    "\n",
    "x_train, x_test, y_train, y_test = train_test_split(x, y, test_size=0.3)\n",
    "\n",
    "print(f'Тренировочная выборка x:\\n{x_train}\\n')\n",
    "print(f'Тренировочная выборка y:\\n {y_train}\\n')\n",
    "print(f'Тестовая выборка x:\\n {x_test}\\n')\n",
    "print(f'Тестовая выборка y:\\n {y_test}\\n')"
   ]
  },
  {
   "cell_type": "markdown",
   "id": "296e58ed",
   "metadata": {},
   "source": [
    "Нормирование численных переменных"
   ]
  },
  {
   "cell_type": "code",
   "execution_count": 4,
   "id": "dce8ec8e",
   "metadata": {},
   "outputs": [
    {
     "name": "stdout",
     "output_type": "stream",
     "text": [
      "      fixed acidity  volatile acidity  citric acid  residual sugar  chlorides  \\\n",
      "735        0.254717          0.566901         0.10        0.063380   0.124561   \n",
      "496        0.264151          0.253521         0.25        0.049296   0.070175   \n",
      "1582       0.103774          0.390845         0.10        0.098592   0.021053   \n",
      "870        0.254717          0.390845         0.01        0.063380   0.040351   \n",
      "1115       0.188679          0.373239         0.07        0.091549   0.087719   \n",
      "...             ...               ...          ...             ...        ...   \n",
      "1567       0.207547          0.376761         0.13        0.056338   0.061404   \n",
      "143        0.122642          0.161972         0.08        0.035211   0.043860   \n",
      "806        0.320755          0.063380         0.39        0.056338   0.000000   \n",
      "1593       0.169811          0.323944         0.08        0.049296   0.047368   \n",
      "1542       0.160377          0.489437         0.02        0.049296   0.040351   \n",
      "\n",
      "      free sulfur dioxide  total sulfur dioxide   density        pH  \\\n",
      "735              0.140625              0.058824  0.426687  0.409449   \n",
      "496              0.187500              0.117647  0.589604  0.543307   \n",
      "1582             0.171875              0.077206  0.218774  0.653543   \n",
      "870              0.453125              0.136029  0.225756  0.527559   \n",
      "1115             0.203125              0.055147  0.381691  0.503937   \n",
      "...                   ...                   ...       ...       ...   \n",
      "1567             0.156250              0.051471  0.361521  0.433071   \n",
      "143              0.015625              0.051471  0.356866  0.472441   \n",
      "806              0.031250              0.014706  0.237393  0.417323   \n",
      "1593             0.406250              0.117647  0.442979  0.535433   \n",
      "1542             0.421875              0.117647  0.304112  0.440945   \n",
      "\n",
      "      sulphates   alcohol  \n",
      "735    0.101796  0.196429  \n",
      "496    0.191617  0.107143  \n",
      "1582   0.101796  0.625000  \n",
      "870    0.143713  0.607143  \n",
      "1115   0.161677  0.517857  \n",
      "...         ...       ...  \n",
      "1567   0.125749  0.303571  \n",
      "143    0.149701  0.178571  \n",
      "806    0.227545  0.732143  \n",
      "1593   0.293413  0.196429  \n",
      "1542   0.137725  0.419643  \n",
      "\n",
      "[480 rows x 11 columns]       fixed acidity  volatile acidity  citric acid  residual sugar  chlorides  \\\n",
      "781        0.168142          0.280992     0.177215        0.102740   0.224176   \n",
      "308        0.504425          0.256198     0.556962        0.102740   0.443956   \n",
      "323        0.504425          0.388430     0.531646        0.130137   0.171429   \n",
      "364        0.725664          0.409091     0.835443        0.335616   0.156044   \n",
      "1138       0.256637          0.239669     0.189873        0.191781   0.202198   \n",
      "...             ...               ...          ...             ...        ...   \n",
      "1572       0.238938          0.471074     0.405063        0.089041   0.125275   \n",
      "256        0.424779          0.181818     0.468354        0.089041   0.138462   \n",
      "1289       0.212389          0.396694     0.379747        0.246575   0.123077   \n",
      "540        0.407080          0.388430     0.303797        0.164384   0.195604   \n",
      "1364       0.230088          0.400826     0.025316        0.068493   0.184615   \n",
      "\n",
      "      free sulfur dioxide  total sulfur dioxide   density        pH  \\\n",
      "781              0.112676              0.109541  0.532305  0.695652   \n",
      "308              0.056338              0.021201  0.685022  0.286957   \n",
      "323              0.478873              0.236749  0.655653  0.365217   \n",
      "364              0.084507              0.127208  0.890602  0.182609   \n",
      "1138             0.394366              0.310954  0.571953  0.243478   \n",
      "...                   ...                   ...       ...       ...   \n",
      "1572             0.478873              0.346290  0.458884  0.408696   \n",
      "256              0.056338              0.024735  0.582232  0.313043   \n",
      "1289             0.267606              0.367491  0.665932  0.382609   \n",
      "540              0.267606              0.144876  0.640969  0.347826   \n",
      "1364             0.126761              0.088339  0.361968  0.521739   \n",
      "\n",
      "      sulphates   alcohol  \n",
      "781    0.173913  0.215385  \n",
      "308    0.161491  0.169231  \n",
      "323    0.204969  0.169231  \n",
      "364    0.223602  0.246154  \n",
      "1138   0.130435  0.107692  \n",
      "...         ...       ...  \n",
      "1572   0.086957  0.169231  \n",
      "256    0.155280  0.123077  \n",
      "1289   0.496894  0.276923  \n",
      "540    0.186335  0.184615  \n",
      "1364   0.099379  0.523077  \n",
      "\n",
      "[1119 rows x 11 columns]         0\n",
      "735   0.4\n",
      "496   0.6\n",
      "1582  0.4\n",
      "870   0.6\n",
      "1115  0.6\n",
      "...   ...\n",
      "1567  0.4\n",
      "143   0.4\n",
      "806   0.8\n",
      "1593  0.6\n",
      "1542  0.6\n",
      "\n",
      "[480 rows x 1 columns]         0\n",
      "781   0.4\n",
      "308   0.6\n",
      "323   0.6\n",
      "364   0.8\n",
      "1138  0.4\n",
      "...   ...\n",
      "1572  0.4\n",
      "256   0.4\n",
      "1289  0.4\n",
      "540   0.4\n",
      "1364  0.6\n",
      "\n",
      "[1119 rows x 1 columns]\n"
     ]
    }
   ],
   "source": [
    "for elem in x.keys():\n",
    "\tx_test[elem] = MinMaxScaler().fit_transform(x_test[elem].values.reshape(-1, 1))\n",
    "\tx_train[elem] = MinMaxScaler().fit_transform(x_train[elem].values.reshape(-1, 1))\n",
    "\n",
    "for elem in y.keys():\n",
    "\ty_test[elem] = MinMaxScaler().fit_transform(y_test[elem].values.reshape(-1, 1))\n",
    "\ty_train[elem] = MinMaxScaler().fit_transform(y_train[elem].values.reshape(-1, 1))\n",
    "print(x_test, x_train, y_test, y_train)\n"
   ]
  },
  {
   "cell_type": "code",
   "execution_count": 5,
   "id": "c7e80b05",
   "metadata": {},
   "outputs": [
    {
     "name": "stdout",
     "output_type": "stream",
     "text": [
      "<class 'pandas.core.frame.DataFrame'> <class 'pandas.core.frame.DataFrame'>\n"
     ]
    }
   ],
   "source": [
    "print(type(y), type(x))"
   ]
  },
  {
   "cell_type": "markdown",
   "id": "c1a39dd9",
   "metadata": {},
   "source": [
    "## 4. Оформляем данные в виде класса Dataset и создаем DataLoader\n",
    "\n",
    "Создадим класс MyDataset, который наследуется от абстрактного класса Dataset и берет данные (признаки и целевую переменную) для  преобразования их в тензоры."
   ]
  },
  {
   "cell_type": "code",
   "execution_count": 6,
   "id": "81429e38",
   "metadata": {},
   "outputs": [],
   "source": [
    "import torch\n",
    "from torch.utils.data import Dataset, DataLoader\n",
    "\n",
    "class MyDataset(Dataset):\n",
    "    def __init__(self, x, y):\n",
    "        self.x = torch.tensor(x.values, dtype=torch.float32) \n",
    "        self.y = torch.tensor(y.values, dtype=torch.float32)\n",
    "\n",
    "    def __len__(self):\n",
    "        return len(self.x)\n",
    "\n",
    "    def __getitem__(self, idx):\n",
    "        return self.x[idx], self.y[idx]\n",
    "\n",
    "train_dataset = MyDataset(x_train, y_train)\n",
    "test_dataset = MyDataset(x_test, y_test)"
   ]
  },
  {
   "cell_type": "markdown",
   "id": "bc33b2f1",
   "metadata": {},
   "source": [
    "Создаем DataLoader"
   ]
  },
  {
   "cell_type": "code",
   "execution_count": 7,
   "id": "812fe504",
   "metadata": {},
   "outputs": [],
   "source": [
    "train_loader = DataLoader(train_dataset, batch_size=64, shuffle=True) \n",
    "test_loader = DataLoader(test_dataset, batch_size=64, shuffle=True)"
   ]
  },
  {
   "cell_type": "markdown",
   "id": "36c820db",
   "metadata": {},
   "source": [
    "## 5. Обучение на тренировочном множестве\n",
    "Простая однослойная нейросеть с оптимизатором SGD"
   ]
  },
  {
   "cell_type": "code",
   "execution_count": 8,
   "id": "11688bb8",
   "metadata": {},
   "outputs": [
    {
     "name": "stderr",
     "output_type": "stream",
     "text": [
      "c:\\Users\\Polyak\\AppData\\Local\\Programs\\Python\\Python312\\Lib\\site-packages\\torch\\nn\\modules\\loss.py:608: UserWarning: Using a target size (torch.Size([64, 1])) that is different to the input size (torch.Size([64])). This will likely lead to incorrect results due to broadcasting. Please ensure they have the same size.\n",
      "  return F.mse_loss(input, target, reduction=self.reduction)\n",
      "c:\\Users\\Polyak\\AppData\\Local\\Programs\\Python\\Python312\\Lib\\site-packages\\torch\\nn\\modules\\loss.py:608: UserWarning: Using a target size (torch.Size([31, 1])) that is different to the input size (torch.Size([31])). This will likely lead to incorrect results due to broadcasting. Please ensure they have the same size.\n",
      "  return F.mse_loss(input, target, reduction=self.reduction)\n",
      "c:\\Users\\Polyak\\AppData\\Local\\Programs\\Python\\Python312\\Lib\\site-packages\\torch\\nn\\modules\\loss.py:608: UserWarning: Using a target size (torch.Size([32, 1])) that is different to the input size (torch.Size([32])). This will likely lead to incorrect results due to broadcasting. Please ensure they have the same size.\n",
      "  return F.mse_loss(input, target, reduction=self.reduction)\n"
     ]
    }
   ],
   "source": [
    "import torch.nn as nn\n",
    "import torch.optim as optim\n",
    "\n",
    "class SingleLayer(nn.Module):\n",
    "    def __init__(self, input_dim):\n",
    "        super(SingleLayer, self).__init__()\n",
    "        self.linear = nn.Linear(input_dim, 1)\n",
    "\n",
    "    def forward(self, x):\n",
    "        return self.linear(x)\n",
    "\n",
    "input_dim = x_train.shape[1]\n",
    "model1 = SingleLayer(input_dim)\n",
    "\n",
    "loss_fn = nn.MSELoss()\n",
    "optimizer = optim.SGD(model1.parameters(), lr=0.01)\n",
    "\n",
    "num_epochs = 200\n",
    "train_losses = []\n",
    "test_losses = []\n",
    "\n",
    "\n",
    "for epoch in range(num_epochs):\n",
    "    model1.train() \n",
    "    \n",
    "    batch_train_loss = 0.0\n",
    "    \n",
    "    for x_batch, y_batch in train_loader:\n",
    "        optimizer.zero_grad() \n",
    "        \n",
    "        y_pred = model1(x_batch.float()).squeeze()  \n",
    "        \n",
    "        loss = loss_fn(y_pred, y_batch.float())\n",
    "        batch_train_loss += loss.item()\n",
    "        loss.backward()\n",
    "        optimizer.step()\n",
    "    \n",
    "    train_losses.append(batch_train_loss / len(train_loader))\n",
    "    \n",
    "    model1.eval()\n",
    "    with torch.no_grad():\n",
    "        batch_test_loss = 0.0\n",
    "        for x_batch, y_batch in test_loader:\n",
    "            y_pred = model1(x_batch.float()).squeeze()\n",
    "            loss = loss_fn(y_pred, y_batch.float())\n",
    "            batch_test_loss += loss.item()\n",
    "        test_losses.append(batch_test_loss / len(test_loader))"
   ]
  },
  {
   "cell_type": "markdown",
   "id": "37e45403",
   "metadata": {},
   "source": [
    "Рисуем кривую обучения модели "
   ]
  },
  {
   "cell_type": "code",
   "execution_count": 9,
   "id": "91328861",
   "metadata": {},
   "outputs": [
    {
     "data": {
      "image/png": "[encoded data removed]",
      "text/plain": [
       "<Figure size 800x500 with 1 Axes>"
      ]
     },
     "metadata": {},
     "output_type": "display_data"
    }
   ],
   "source": [
    "plt.figure(figsize=(8, 5))\n",
    "plt.plot(range(1, num_epochs+1), train_losses, label='Train Loss')\n",
    "plt.plot(range(1, num_epochs+1), test_losses, label='Test Loss')\n",
    "plt.xlabel('Epoch')\n",
    "plt.ylabel('Loss')\n",
    "plt.title('Learning Curve (кривая обучения модели)')\n",
    "plt.legend()\n",
    "plt.show()"
   ]
  },
  {
   "cell_type": "markdown",
   "id": "b7843e8d",
   "metadata": {},
   "source": [
    "Подсчитать метрики на train и test множествах"
   ]
  },
  {
   "cell_type": "code",
   "execution_count": 17,
   "id": "16beb2ef",
   "metadata": {},
   "outputs": [
    {
     "name": "stdout",
     "output_type": "stream",
     "text": [
      "Train MAE: 0.1372\n",
      "Test MAE: 0.1420\n"
     ]
    }
   ],
   "source": [
    "from sklearn.metrics import mean_absolute_error\n",
    "\n",
    "def compute_mae(model, data_loader):\n",
    "    model.eval()  \n",
    "    \n",
    "    all_preds = []\n",
    "    all_labels = []\n",
    "    with torch.no_grad():  \n",
    "        for x_batch, y_batch in data_loader:\n",
    "            y_pred = model(x_batch.float()).squeeze()  \n",
    "            y_batch = y_batch  \n",
    "            \n",
    "            all_preds.extend(y_pred.cpu().numpy())  \n",
    "            all_labels.extend(y_batch.cpu().numpy())\n",
    "    \n",
    "    return mean_absolute_error(all_labels, all_preds)  \n",
    "\n",
    "train_mae = compute_mae(model1, train_loader)\n",
    "test_mae = compute_mae(model1, test_loader)\n",
    "\n",
    "print(f\"Train MAE: {train_mae:.4f}\")\n",
    "print(f\"Test MAE: {test_mae:.4f}\")"
   ]
  },
  {
   "cell_type": "markdown",
   "id": "f98c7611",
   "metadata": {},
   "source": [
    "5.2 Нейросеть посложнее (с 1 скрытым слоем) с оптимизатором Adam\n"
   ]
  },
  {
   "cell_type": "code",
   "execution_count": 11,
   "id": "be34bce7",
   "metadata": {},
   "outputs": [
    {
     "name": "stderr",
     "output_type": "stream",
     "text": [
      "c:\\Users\\Polyak\\AppData\\Local\\Programs\\Python\\Python312\\Lib\\site-packages\\torch\\nn\\modules\\loss.py:608: UserWarning: Using a target size (torch.Size([64, 1])) that is different to the input size (torch.Size([64])). This will likely lead to incorrect results due to broadcasting. Please ensure they have the same size.\n",
      "  return F.mse_loss(input, target, reduction=self.reduction)\n",
      "c:\\Users\\Polyak\\AppData\\Local\\Programs\\Python\\Python312\\Lib\\site-packages\\torch\\nn\\modules\\loss.py:608: UserWarning: Using a target size (torch.Size([31, 1])) that is different to the input size (torch.Size([31])). This will likely lead to incorrect results due to broadcasting. Please ensure they have the same size.\n",
      "  return F.mse_loss(input, target, reduction=self.reduction)\n",
      "c:\\Users\\Polyak\\AppData\\Local\\Programs\\Python\\Python312\\Lib\\site-packages\\torch\\nn\\modules\\loss.py:608: UserWarning: Using a target size (torch.Size([32, 1])) that is different to the input size (torch.Size([32])). This will likely lead to incorrect results due to broadcasting. Please ensure they have the same size.\n",
      "  return F.mse_loss(input, target, reduction=self.reduction)\n"
     ]
    }
   ],
   "source": [
    "class SingleHiddenLayerModel(nn.Module):\n",
    "    def __init__(self, input_dim, hidden_dim):\n",
    "        super(SingleHiddenLayerModel, self).__init__()\n",
    "        self.hidden = nn.Linear(input_dim, hidden_dim) \n",
    "        self.output = nn.Linear(hidden_dim, 1)\n",
    "\n",
    "    def forward(self, x):\n",
    "        x = torch.relu(self.hidden(x))\n",
    "        x = self.output(x)\n",
    "        return x\n",
    "\n",
    "\n",
    "input_dim = x_train.shape[1]\n",
    "hidden_dim = 64 \n",
    "\n",
    "model2 = SingleHiddenLayerModel(input_dim, hidden_dim)\n",
    "loss_fn = nn.MSELoss() \n",
    "optimizer = optim.Adam(model2.parameters(), lr=0.01)\n",
    "\n",
    "num_epochs = 700\n",
    "\n",
    "train_losses = []\n",
    "test_losses = []\n",
    "\n",
    "\n",
    "for epoch in range(num_epochs):\n",
    "    model2.train()  \n",
    "\n",
    "    batch_train_loss = 0.0\n",
    "    for x_batch, y_batch in train_loader:\n",
    "        optimizer.zero_grad() \n",
    "        y_pred = model2(x_batch.float()).squeeze()\n",
    "\n",
    "        loss = loss_fn(y_pred, y_batch.float())\n",
    "        batch_train_loss += loss.item()\n",
    "\n",
    "        loss.backward()\n",
    "        optimizer.step()  \n",
    "\n",
    "    train_losses.append(batch_train_loss / len(train_loader)) \n",
    "\n",
    "    model2.eval() \n",
    "    with torch.no_grad():\n",
    "        batch_test_loss = 0.0\n",
    "        for x_batch, y_batch in test_loader:\n",
    "            y_pred = model2(x_batch.float()).squeeze()\n",
    "            loss = loss_fn(y_pred, y_batch.float())\n",
    "            batch_test_loss += loss.item()\n",
    "        test_losses.append(batch_test_loss / len(test_loader)) "
   ]
  },
  {
   "cell_type": "markdown",
   "id": "7cb39c26",
   "metadata": {},
   "source": [
    "Рисуем кривую обучения модели "
   ]
  },
  {
   "cell_type": "code",
   "execution_count": 12,
   "id": "4fff5e3e",
   "metadata": {},
   "outputs": [
    {
     "data": {
      "image/png": "[encoded data removed]",
      "text/plain": [
       "<Figure size 640x480 with 1 Axes>"
      ]
     },
     "metadata": {},
     "output_type": "display_data"
    }
   ],
   "source": [
    "plt.plot(range(1, num_epochs+1), train_losses, label='Train Loss')\n",
    "plt.plot(range(1, num_epochs+1), test_losses, label='Test Loss')\n",
    "plt.xlabel('Epoch')\n",
    "plt.ylabel('Loss')\n",
    "plt.title('Learning Curve (кривая обучения модели)')\n",
    "plt.legend()\n",
    "plt.show()"
   ]
  },
  {
   "cell_type": "markdown",
   "id": "273a9da3",
   "metadata": {},
   "source": [
    "Подсчитать метрики на train и test множествах"
   ]
  },
  {
   "cell_type": "code",
   "execution_count": 19,
   "id": "9d35ac57",
   "metadata": {},
   "outputs": [
    {
     "name": "stdout",
     "output_type": "stream",
     "text": [
      "Train MAE: 0.1351\n",
      "Test MAE: 0.1385\n"
     ]
    }
   ],
   "source": [
    "from sklearn.metrics import mean_absolute_error\n",
    "  \n",
    "train_mae = compute_mae(model2, train_loader)\n",
    "test_mae = compute_mae(model2, test_loader)\n",
    "\n",
    "print(f\"Train MAE: {train_mae:.4f}\")\n",
    "print(f\"Test MAE: {test_mae:.4f}\")"
   ]
  },
  {
   "cell_type": "markdown",
   "id": "91a83525",
   "metadata": {},
   "source": [
    "5.3 Нейросеть еще сложнее (с 3+ скрытыми слоями) с оптимизатором Adam"
   ]
  },
  {
   "cell_type": "code",
   "execution_count": 14,
   "id": "29e0d30a",
   "metadata": {},
   "outputs": [
    {
     "name": "stderr",
     "output_type": "stream",
     "text": [
      "c:\\Users\\Polyak\\AppData\\Local\\Programs\\Python\\Python312\\Lib\\site-packages\\torch\\nn\\modules\\loss.py:608: UserWarning: Using a target size (torch.Size([64, 1])) that is different to the input size (torch.Size([64])). This will likely lead to incorrect results due to broadcasting. Please ensure they have the same size.\n",
      "  return F.mse_loss(input, target, reduction=self.reduction)\n",
      "c:\\Users\\Polyak\\AppData\\Local\\Programs\\Python\\Python312\\Lib\\site-packages\\torch\\nn\\modules\\loss.py:608: UserWarning: Using a target size (torch.Size([31, 1])) that is different to the input size (torch.Size([31])). This will likely lead to incorrect results due to broadcasting. Please ensure they have the same size.\n",
      "  return F.mse_loss(input, target, reduction=self.reduction)\n",
      "c:\\Users\\Polyak\\AppData\\Local\\Programs\\Python\\Python312\\Lib\\site-packages\\torch\\nn\\modules\\loss.py:608: UserWarning: Using a target size (torch.Size([32, 1])) that is different to the input size (torch.Size([32])). This will likely lead to incorrect results due to broadcasting. Please ensure they have the same size.\n",
      "  return F.mse_loss(input, target, reduction=self.reduction)\n"
     ]
    }
   ],
   "source": [
    "class ThirdLayerNN(nn.Module):\n",
    "    def __init__(self, input_dim):\n",
    "        super(ThirdLayerNN, self).__init__()\n",
    "        self.fc1 = nn.Linear(input_dim, 64) \n",
    "        self.fc2 = nn.Linear(64, 64)   \n",
    "        self.fc3 = nn.Linear(64, 32) \n",
    "        self.fc4 = nn.Linear(32, 1) \n",
    "\n",
    "        self.relu = nn.ReLU()\n",
    "\n",
    "    def forward(self, x):\n",
    "        x = self.relu(self.fc1(x))\n",
    "        x = self.relu(self.fc2(x))\n",
    "        x = self.relu(self.fc3(x))\n",
    "        x = self.fc4(x)\n",
    "        return x\n",
    "\n",
    "input_dim = x_train.shape[1]\n",
    "model3 = ThirdLayerNN(input_dim)\n",
    "\n",
    "loss_fn = nn.MSELoss()\n",
    "\n",
    "optimizer = optim.Adam(model3.parameters(), lr=0.001)\n",
    "\n",
    "num_epochs = 300\n",
    "train_losses = []\n",
    "test_losses = []\n",
    "\n",
    "\n",
    "for epoch in range(num_epochs):\n",
    "    model3.train()  \n",
    "    \n",
    "    batch_train_loss = 0.0\n",
    "    for x_batch, y_batch in train_loader:\n",
    "        optimizer.zero_grad()\n",
    "        \n",
    "        y_pred = model3(x_batch.float()).squeeze()\n",
    "        \n",
    "        loss = loss_fn(y_pred, y_batch.float()) \n",
    "        batch_train_loss += loss.item() \n",
    "        loss.backward() \n",
    "        optimizer.step()\n",
    "\n",
    "    train_losses.append(batch_train_loss / len(train_loader))\n",
    "    \n",
    "    model3.eval() \n",
    "    with torch.no_grad(): \n",
    "        batch_test_loss = 0.0\n",
    "        for x_batch, y_batch in test_loader:\n",
    "            y_pred = model3(x_batch.float()).squeeze()\n",
    "            loss = loss_fn(y_pred, y_batch.float())\n",
    "            batch_test_loss += loss.item()\n",
    "        test_losses.append(batch_test_loss / len(test_loader))\n",
    "    "
   ]
  },
  {
   "cell_type": "markdown",
   "id": "d397c6ee",
   "metadata": {},
   "source": [
    "Рисуем кривую обучения модели"
   ]
  },
  {
   "cell_type": "code",
   "execution_count": 15,
   "id": "82a11b98",
   "metadata": {},
   "outputs": [
    {
     "data": {
      "image/png": "[encoded data removed]",
      "text/plain": [
       "<Figure size 640x480 with 1 Axes>"
      ]
     },
     "metadata": {},
     "output_type": "display_data"
    }
   ],
   "source": [
    "plt.plot(range(1, num_epochs+1), train_losses, label='Train Loss')\n",
    "plt.plot(range(1, num_epochs+1), test_losses, label='Test Loss')\n",
    "plt.xlabel('Epoch')\n",
    "plt.ylabel('Loss')\n",
    "plt.title('Learning Curve (кривая обучения модели)')\n",
    "plt.legend()\n",
    "plt.show()"
   ]
  },
  {
   "cell_type": "markdown",
   "id": "2fb70d38",
   "metadata": {},
   "source": [
    "Подсчитать метрики на train и test множествах"
   ]
  },
  {
   "cell_type": "code",
   "execution_count": 20,
   "id": "668211da",
   "metadata": {},
   "outputs": [
    {
     "name": "stdout",
     "output_type": "stream",
     "text": [
      "Train MAE: 0.1345\n",
      "Test MAE: 0.1381\n"
     ]
    }
   ],
   "source": [
    "from sklearn.metrics import mean_absolute_error \n",
    "\n",
    "train_mae = compute_mae(model3, train_loader)\n",
    "test_mae = compute_mae(model3, test_loader)\n",
    "\n",
    "print(f\"Train MAE: {train_mae:.4f}\")\n",
    "print(f\"Test MAE: {test_mae:.4f}\")"
   ]
  },
  {
   "cell_type": "markdown",
   "id": "ff3120fb",
   "metadata": {},
   "source": [
    "## 6. Сравнение метрик\n",
    "\n",
    "Модель 1 (нейросеть c 1 слоем, оптимизатор SGD) показывает наименьшие значения MAE как для тренировочного, так и для тестового множества. Это означает, что она справилась лучше всего с поставленной задачей  \n",
    "\n",
    "На основе полученных метрик переобучение не наблюдается для всех моделей.  \n",
    "Переобучение происходит, когда модель слишком хорошо подгоняет данные на тренировочном множестве, но плохо работает на тестовом. Это можно заметить по резкому падению MAE на тренировочном множестве и значительному ухудшению на тестовом.   \n",
    "\n",
    "Недообучение происходит, когда модель не способна достаточно хорошо подогнать данные на тренировочном множестве, что проявляется в высоких значениях MAE как на тренировочном, так и на тестовом множестве.\n",
    "Все модели в среднем показывают одинаково невысокие значения, значит недообучения не наблюдается"
   ]
  }
 ],
 "metadata": {
  "kernelspec": {
   "display_name": "Python 3",
   "language": "python",
   "name": "python3"
  },
  "language_info": {
   "codemirror_mode": {
    "name": "ipython",
    "version": 3
   },
   "file_extension": ".py",
   "mimetype": "text/x-python",
   "name": "python",
   "nbconvert_exporter": "python",
   "pygments_lexer": "ipython3",
   "version": "3.12.5"
  }
 },
 "nbformat": 4,
 "nbformat_minor": 5
}
